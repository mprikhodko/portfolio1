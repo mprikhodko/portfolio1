{
 "cells": [
  {
   "cell_type": "code",
   "execution_count": 21,
   "id": "initial_id",
   "metadata": {
    "collapsed": true,
    "ExecuteTime": {
     "end_time": "2023-12-08T21:09:23.043612115Z",
     "start_time": "2023-12-08T21:09:23.001407022Z"
    }
   },
   "outputs": [],
   "source": [
    "import numpy as np\n",
    "import pandas as pd\n",
    "import os\n",
    "import seaborn as sns\n",
    "\n",
    "from network import Network\n",
    "from perceptron import Perceptron\n",
    "from layer import Layer\n",
    "from tqdm import tqdm\n",
    "import typing as tp\n",
    "import matplotlib.pyplot as plt\n",
    "from copy import deepcopy\n",
    "\n",
    "sns.set_theme(rc={'figure.figsize': (8.25, 5.875), 'figure.dpi': 100, 'axes.labelpad': 2, 'savefig.pad_inches': .5})"
   ]
  },
  {
   "cell_type": "code",
   "execution_count": 22,
   "outputs": [
    {
     "data": {
      "text/plain": "    Data Item   LAC   SOW  TACA\n0           1  0.90  0.87     1\n1           2  1.81  1.02     0\n2           3  1.31  0.75     1\n3           4  2.36  1.60     0\n4           5  2.48  1.14     0\n5           6  2.17  2.08     1\n6           7  0.41  1.87     0\n7           8  2.85  2.91     1\n8           9  2.45  0.52     0\n9          10  1.05  1.93     0\n10         11  2.54  2.97     1\n11         12  2.32  1.73     0\n12         13  0.07  0.09     1\n13         14  1.86  1.31     0\n14         15  1.32  1.96     0\n15         16  1.45  2.19     0\n16         17  0.94  0.34     1\n17         18  0.28  0.71     1\n18         19  1.75  2.21     0\n19         20  2.49  1.52     0",
      "text/html": "<div>\n<style scoped>\n    .dataframe tbody tr th:only-of-type {\n        vertical-align: middle;\n    }\n\n    .dataframe tbody tr th {\n        vertical-align: top;\n    }\n\n    .dataframe thead th {\n        text-align: right;\n    }\n</style>\n<table border=\"1\" class=\"dataframe\">\n  <thead>\n    <tr style=\"text-align: right;\">\n      <th></th>\n      <th>Data Item</th>\n      <th>LAC</th>\n      <th>SOW</th>\n      <th>TACA</th>\n    </tr>\n  </thead>\n  <tbody>\n    <tr>\n      <th>0</th>\n      <td>1</td>\n      <td>0.90</td>\n      <td>0.87</td>\n      <td>1</td>\n    </tr>\n    <tr>\n      <th>1</th>\n      <td>2</td>\n      <td>1.81</td>\n      <td>1.02</td>\n      <td>0</td>\n    </tr>\n    <tr>\n      <th>2</th>\n      <td>3</td>\n      <td>1.31</td>\n      <td>0.75</td>\n      <td>1</td>\n    </tr>\n    <tr>\n      <th>3</th>\n      <td>4</td>\n      <td>2.36</td>\n      <td>1.60</td>\n      <td>0</td>\n    </tr>\n    <tr>\n      <th>4</th>\n      <td>5</td>\n      <td>2.48</td>\n      <td>1.14</td>\n      <td>0</td>\n    </tr>\n    <tr>\n      <th>5</th>\n      <td>6</td>\n      <td>2.17</td>\n      <td>2.08</td>\n      <td>1</td>\n    </tr>\n    <tr>\n      <th>6</th>\n      <td>7</td>\n      <td>0.41</td>\n      <td>1.87</td>\n      <td>0</td>\n    </tr>\n    <tr>\n      <th>7</th>\n      <td>8</td>\n      <td>2.85</td>\n      <td>2.91</td>\n      <td>1</td>\n    </tr>\n    <tr>\n      <th>8</th>\n      <td>9</td>\n      <td>2.45</td>\n      <td>0.52</td>\n      <td>0</td>\n    </tr>\n    <tr>\n      <th>9</th>\n      <td>10</td>\n      <td>1.05</td>\n      <td>1.93</td>\n      <td>0</td>\n    </tr>\n    <tr>\n      <th>10</th>\n      <td>11</td>\n      <td>2.54</td>\n      <td>2.97</td>\n      <td>1</td>\n    </tr>\n    <tr>\n      <th>11</th>\n      <td>12</td>\n      <td>2.32</td>\n      <td>1.73</td>\n      <td>0</td>\n    </tr>\n    <tr>\n      <th>12</th>\n      <td>13</td>\n      <td>0.07</td>\n      <td>0.09</td>\n      <td>1</td>\n    </tr>\n    <tr>\n      <th>13</th>\n      <td>14</td>\n      <td>1.86</td>\n      <td>1.31</td>\n      <td>0</td>\n    </tr>\n    <tr>\n      <th>14</th>\n      <td>15</td>\n      <td>1.32</td>\n      <td>1.96</td>\n      <td>0</td>\n    </tr>\n    <tr>\n      <th>15</th>\n      <td>16</td>\n      <td>1.45</td>\n      <td>2.19</td>\n      <td>0</td>\n    </tr>\n    <tr>\n      <th>16</th>\n      <td>17</td>\n      <td>0.94</td>\n      <td>0.34</td>\n      <td>1</td>\n    </tr>\n    <tr>\n      <th>17</th>\n      <td>18</td>\n      <td>0.28</td>\n      <td>0.71</td>\n      <td>1</td>\n    </tr>\n    <tr>\n      <th>18</th>\n      <td>19</td>\n      <td>1.75</td>\n      <td>2.21</td>\n      <td>0</td>\n    </tr>\n    <tr>\n      <th>19</th>\n      <td>20</td>\n      <td>2.49</td>\n      <td>1.52</td>\n      <td>0</td>\n    </tr>\n  </tbody>\n</table>\n</div>"
     },
     "execution_count": 22,
     "metadata": {},
     "output_type": "execute_result"
    }
   ],
   "source": [
    "df: pd.DataFrame = pd.read_csv(os.path.join('data', 'group_project_data.csv'))\n",
    "df"
   ],
   "metadata": {
    "collapsed": false,
    "ExecuteTime": {
     "end_time": "2023-12-08T21:09:23.044782804Z",
     "start_time": "2023-12-08T21:09:23.043530110Z"
    }
   },
   "id": "9b51a438a41f77ea"
  },
  {
   "cell_type": "code",
   "execution_count": 23,
   "outputs": [],
   "source": [
    "def get_network(use_biases: bool) -> Network:\n",
    "    return (Network()\n",
    "    .add_layer(\n",
    "        Layer(num_in_features=2,\n",
    "              num_out_features=2,\n",
    "              is_hidden_layer=True,\n",
    "              # initial_weights=[np.ones(2) * 0.3, np.ones(2) * 0.3],\n",
    "              use_biases=use_biases))\n",
    "    .add_layer(\n",
    "        Layer(num_in_features=2,\n",
    "              num_out_features=1,\n",
    "              is_hidden_layer=False,\n",
    "              # initial_weights=[np.ones(2) * 0.8],\n",
    "              use_biases=use_biases)))\n",
    "\n",
    "def get_average_error(net: Network, x: np.ndarray, y: np.ndarray) -> float:\n",
    "    tot_error: float = 0\n",
    "    for i in range(x.shape[0]):\n",
    "        net.feedforward(x[i])\n",
    "        tot_error += net.get_total_error(y[i])\n",
    "    return tot_error"
   ],
   "metadata": {
    "collapsed": false,
    "ExecuteTime": {
     "end_time": "2023-12-08T21:09:23.044873221Z",
     "start_time": "2023-12-08T21:09:23.043719083Z"
    }
   },
   "id": "8f16dcde77c75a3"
  },
  {
   "cell_type": "code",
   "execution_count": 24,
   "outputs": [
    {
     "data": {
      "text/plain": "[\n\t(0) :: Layer(in=2, out=2, is_hidden=True, use_biases=True)\n\t(1) :: Layer(in=2, out=1, is_hidden=False, use_biases=True)\n]"
     },
     "execution_count": 24,
     "metadata": {},
     "output_type": "execute_result"
    }
   ],
   "source": [
    "network: Network = get_network(True)\n",
    "network"
   ],
   "metadata": {
    "collapsed": false,
    "ExecuteTime": {
     "end_time": "2023-12-08T21:09:23.045383080Z",
     "start_time": "2023-12-08T21:09:23.043780770Z"
    }
   },
   "id": "29cf48bab1b2d7ac"
  },
  {
   "cell_type": "code",
   "execution_count": 25,
   "outputs": [],
   "source": [
    "x_cols: tp.List[str] = ['LAC', 'SOW']\n",
    "y_cols: tp.List[str] = ['TACA']"
   ],
   "metadata": {
    "collapsed": false,
    "ExecuteTime": {
     "end_time": "2023-12-08T21:09:23.045462240Z",
     "start_time": "2023-12-08T21:09:23.043839312Z"
    }
   },
   "id": "887ff22655359d04"
  },
  {
   "cell_type": "code",
   "execution_count": 26,
   "outputs": [],
   "source": [
    "def min_max_scale(a: np.ndarray) -> np.ndarray:\n",
    "    min_val: np.ndarray = np.min(a, axis=0)\n",
    "    max_val: np.ndarray = np.max(a, axis=0)\n",
    "    return (a - min_val) / (max_val - min_val)"
   ],
   "metadata": {
    "collapsed": false,
    "ExecuteTime": {
     "end_time": "2023-12-08T21:09:23.045529045Z",
     "start_time": "2023-12-08T21:09:23.044027540Z"
    }
   },
   "id": "417e765291cb6b65"
  },
  {
   "cell_type": "code",
   "execution_count": 27,
   "outputs": [],
   "source": [
    "from sklearn.model_selection import KFold, train_test_split\n",
    "from sklearn.metrics import f1_score, accuracy_score"
   ],
   "metadata": {
    "collapsed": false,
    "ExecuteTime": {
     "end_time": "2023-12-08T21:09:23.045593076Z",
     "start_time": "2023-12-08T21:09:23.044111548Z"
    }
   },
   "id": "cd956b904e1a04ac"
  },
  {
   "cell_type": "code",
   "execution_count": 28,
   "outputs": [
    {
     "data": {
      "text/plain": "((16, 2), (16, 1))"
     },
     "execution_count": 28,
     "metadata": {},
     "output_type": "execute_result"
    }
   ],
   "source": [
    "train_x, test_x, train_y, test_y = train_test_split(df[x_cols].values, df[y_cols].values, random_state=13, train_size=0.8, shuffle=True)\n",
    "train_x.shape, train_y.shape"
   ],
   "metadata": {
    "collapsed": false,
    "ExecuteTime": {
     "end_time": "2023-12-08T21:09:23.046230489Z",
     "start_time": "2023-12-08T21:09:23.044167693Z"
    }
   },
   "id": "7f77d8270ca8fffe"
  },
  {
   "cell_type": "code",
   "execution_count": 52,
   "outputs": [],
   "source": [
    "def do_single_data(_net: Network, x: np.ndarray, y: np.ndarray, learning_rate: float, threshold_f: tp.Callable[[float], bool], do_training: bool = True) -> tp.Tuple[Network, bool]:\n",
    "    net: Network = deepcopy(_net)\n",
    "    curr_out: np.ndarray = net.feedforward(x)\n",
    "    if do_training:\n",
    "        net.backprop(learning_rate, y)\n",
    "    prediction: bool = threshold_f(curr_out.item())\n",
    "    return net, prediction"
   ],
   "metadata": {
    "collapsed": false,
    "ExecuteTime": {
     "end_time": "2023-12-08T21:20:05.959568256Z",
     "start_time": "2023-12-08T21:20:05.916566635Z"
    }
   },
   "id": "6fac2d9aea6f73ae"
  },
  {
   "cell_type": "code",
   "execution_count": 53,
   "outputs": [],
   "source": [
    "def train_network(_net: Network, x: np.ndarray, y: np.ndarray, n_epochs: int, learning_rate: float, threshold_f: tp.Callable[[float], bool]) -> tp.Tuple[Network, tp.List[tp.Dict[str, tp.Any]]]:\n",
    "    net: Network = deepcopy(_net)    \n",
    "    results: tp.List[tp.Dict[str, tp.Any]] = []\n",
    "\n",
    "    for epoch in range(n_epochs):\n",
    "        predictions: tp.List[float] = []\n",
    "        for i in range(x.shape[0]):\n",
    "            net, pred = do_single_data(net, x[i, :], y[i, :], learning_rate, threshold_f)\n",
    "            predictions.append(pred)\n",
    "        curr_error: float = get_average_error(net, x, y)\n",
    "        f1: float = f1_score(y_pred=np.array(predictions), y_true=y)\n",
    "        results.append({'epoch': epoch, 'error': curr_error, 'f1_score': f1})\n",
    "    return net, results"
   ],
   "metadata": {
    "collapsed": false,
    "ExecuteTime": {
     "end_time": "2023-12-08T21:20:07.541531767Z",
     "start_time": "2023-12-08T21:20:07.538900437Z"
    }
   },
   "id": "208d9f39a1c12044"
  },
  {
   "cell_type": "code",
   "execution_count": 64,
   "outputs": [
    {
     "data": {
      "text/plain": "    epoch     error  f1_score  fold_num   test_f1\n0       0  2.034457  0.588235         0  0.400000\n1       1  2.033063  0.588235         0  0.400000\n2       2  2.031671  0.588235         0  0.400000\n3       3  2.030280  0.588235         0  0.400000\n4       4  2.028890  0.588235         0  0.400000\n..    ...       ...       ...       ...       ...\n55     55  2.289625  0.400000         3  0.857143\n56     56  2.286369  0.400000         3  0.857143\n57     57  2.283115  0.400000         3  0.857143\n58     58  2.279863  0.400000         3  0.857143\n59     59  2.276612  0.400000         3  0.857143\n\n[240 rows x 5 columns]",
      "text/html": "<div>\n<style scoped>\n    .dataframe tbody tr th:only-of-type {\n        vertical-align: middle;\n    }\n\n    .dataframe tbody tr th {\n        vertical-align: top;\n    }\n\n    .dataframe thead th {\n        text-align: right;\n    }\n</style>\n<table border=\"1\" class=\"dataframe\">\n  <thead>\n    <tr style=\"text-align: right;\">\n      <th></th>\n      <th>epoch</th>\n      <th>error</th>\n      <th>f1_score</th>\n      <th>fold_num</th>\n      <th>test_f1</th>\n    </tr>\n  </thead>\n  <tbody>\n    <tr>\n      <th>0</th>\n      <td>0</td>\n      <td>2.034457</td>\n      <td>0.588235</td>\n      <td>0</td>\n      <td>0.400000</td>\n    </tr>\n    <tr>\n      <th>1</th>\n      <td>1</td>\n      <td>2.033063</td>\n      <td>0.588235</td>\n      <td>0</td>\n      <td>0.400000</td>\n    </tr>\n    <tr>\n      <th>2</th>\n      <td>2</td>\n      <td>2.031671</td>\n      <td>0.588235</td>\n      <td>0</td>\n      <td>0.400000</td>\n    </tr>\n    <tr>\n      <th>3</th>\n      <td>3</td>\n      <td>2.030280</td>\n      <td>0.588235</td>\n      <td>0</td>\n      <td>0.400000</td>\n    </tr>\n    <tr>\n      <th>4</th>\n      <td>4</td>\n      <td>2.028890</td>\n      <td>0.588235</td>\n      <td>0</td>\n      <td>0.400000</td>\n    </tr>\n    <tr>\n      <th>...</th>\n      <td>...</td>\n      <td>...</td>\n      <td>...</td>\n      <td>...</td>\n      <td>...</td>\n    </tr>\n    <tr>\n      <th>55</th>\n      <td>55</td>\n      <td>2.289625</td>\n      <td>0.400000</td>\n      <td>3</td>\n      <td>0.857143</td>\n    </tr>\n    <tr>\n      <th>56</th>\n      <td>56</td>\n      <td>2.286369</td>\n      <td>0.400000</td>\n      <td>3</td>\n      <td>0.857143</td>\n    </tr>\n    <tr>\n      <th>57</th>\n      <td>57</td>\n      <td>2.283115</td>\n      <td>0.400000</td>\n      <td>3</td>\n      <td>0.857143</td>\n    </tr>\n    <tr>\n      <th>58</th>\n      <td>58</td>\n      <td>2.279863</td>\n      <td>0.400000</td>\n      <td>3</td>\n      <td>0.857143</td>\n    </tr>\n    <tr>\n      <th>59</th>\n      <td>59</td>\n      <td>2.276612</td>\n      <td>0.400000</td>\n      <td>3</td>\n      <td>0.857143</td>\n    </tr>\n  </tbody>\n</table>\n<p>240 rows × 5 columns</p>\n</div>"
     },
     "execution_count": 64,
     "metadata": {},
     "output_type": "execute_result"
    }
   ],
   "source": [
    "k: int = 4\n",
    "num_epochs: int = 60\n",
    "lr: float = 1e-3\n",
    "threshold: tp.Callable[[float], bool] = lambda f: f >= 0.4\n",
    "\n",
    "k_folder: KFold = KFold(n_splits=k, shuffle=True, random_state=13)\n",
    "\n",
    "analysis_results: tp.List[pd.DataFrame] = []\n",
    "\n",
    "network_results: tp.Dict[int, tp.Tuple[Network, float]] = {}\n",
    "\n",
    "for fold_idx, (train_idx, test_idx) in enumerate(k_folder.split(train_x, train_y)):\n",
    "    trained_network, fold_results = train_network(network, train_x[train_idx, :], train_y[train_idx], num_epochs, lr, threshold)\n",
    "    curr_fold_results: pd.DataFrame = pd.DataFrame.from_records(fold_results)\n",
    "    curr_fold_results['fold_num'] = fold_idx\n",
    "    \n",
    "    test_predictions: tp.List[bool] = [do_single_data(trained_network, train_x[test_i, :], train_y[test_i], lr, threshold, do_training=False)[1] for test_i in test_idx] \n",
    "    test_f1_score: float = f1_score(train_y[test_idx], y_pred=np.array(test_predictions).astype(int))\n",
    "    curr_fold_results['test_f1'] = test_f1_score\n",
    "    \n",
    "    network_results[fold_idx] = (trained_network, test_f1_score)\n",
    "    \n",
    "    analysis_results.append(curr_fold_results)\n",
    "results_df: pd.DataFrame = pd.concat(analysis_results)\n",
    "results_df"
   ],
   "metadata": {
    "collapsed": false,
    "ExecuteTime": {
     "end_time": "2023-12-08T21:28:44.079298850Z",
     "start_time": "2023-12-08T21:28:42.903591170Z"
    }
   },
   "id": "1ea7ae493fe82696"
  },
  {
   "cell_type": "code",
   "execution_count": 65,
   "outputs": [
    {
     "data": {
      "text/plain": "          f1_score   test_f1\nfold_num                    \n0         0.588235  0.400000\n1         0.500000  0.666667\n2         0.666667  0.000000\n3         0.400000  0.857143",
      "text/html": "<div>\n<style scoped>\n    .dataframe tbody tr th:only-of-type {\n        vertical-align: middle;\n    }\n\n    .dataframe tbody tr th {\n        vertical-align: top;\n    }\n\n    .dataframe thead th {\n        text-align: right;\n    }\n</style>\n<table border=\"1\" class=\"dataframe\">\n  <thead>\n    <tr style=\"text-align: right;\">\n      <th></th>\n      <th>f1_score</th>\n      <th>test_f1</th>\n    </tr>\n    <tr>\n      <th>fold_num</th>\n      <th></th>\n      <th></th>\n    </tr>\n  </thead>\n  <tbody>\n    <tr>\n      <th>0</th>\n      <td>0.588235</td>\n      <td>0.400000</td>\n    </tr>\n    <tr>\n      <th>1</th>\n      <td>0.500000</td>\n      <td>0.666667</td>\n    </tr>\n    <tr>\n      <th>2</th>\n      <td>0.666667</td>\n      <td>0.000000</td>\n    </tr>\n    <tr>\n      <th>3</th>\n      <td>0.400000</td>\n      <td>0.857143</td>\n    </tr>\n  </tbody>\n</table>\n</div>"
     },
     "execution_count": 65,
     "metadata": {},
     "output_type": "execute_result"
    }
   ],
   "source": [
    "grouped_df: pd.DataFrame = results_df.groupby('fold_num').agg({'f1_score': 'max', 'test_f1': 'max'})\n",
    "grouped_df"
   ],
   "metadata": {
    "collapsed": false,
    "ExecuteTime": {
     "end_time": "2023-12-08T21:28:46.019373271Z",
     "start_time": "2023-12-08T21:28:46.015959924Z"
    }
   },
   "id": "442d187819205657"
  },
  {
   "cell_type": "code",
   "execution_count": 66,
   "outputs": [
    {
     "data": {
      "text/plain": "Text(0.5, 1.0, 'K Folds Results From Base Training Dataset')"
     },
     "execution_count": 66,
     "metadata": {},
     "output_type": "execute_result"
    },
    {
     "data": {
      "text/plain": "<Figure size 825x587.5 with 1 Axes>",
      "image/png": "[encoded data removed]"
     },
     "metadata": {},
     "output_type": "display_data"
    }
   ],
   "source": [
    "sns.lineplot(data=results_df, x='epoch', y='test_f1', hue='fold_num')\n",
    "plt.xlabel('Epoch')\n",
    "plt.ylabel('F1 Score (Test Fold)')\n",
    "plt.title('K Folds Results From Base Training Dataset')"
   ],
   "metadata": {
    "collapsed": false,
    "ExecuteTime": {
     "end_time": "2023-12-08T21:28:53.414874638Z",
     "start_time": "2023-12-08T21:28:53.137313155Z"
    }
   },
   "id": "266773f271408f70"
  },
  {
   "cell_type": "code",
   "execution_count": 67,
   "outputs": [
    {
     "data": {
      "text/plain": "0.6666666666666666"
     },
     "execution_count": 67,
     "metadata": {},
     "output_type": "execute_result"
    }
   ],
   "source": [
    "best_k_fold: int = max(network_results.keys(), key=lambda kk: network_results[kk][1])\n",
    "best_network: Network = network_results[best_k_fold][0]\n",
    "\n",
    "test_predict: np.ndarray = np.array([do_single_data(best_network, test_x[i, :], test_y[i], lr, threshold, do_training=False)[1] for i in range(test_x.shape[0])]).astype(int)\n",
    "\n",
    "f1_score(y_pred=test_predict, y_true=test_y)"
   ],
   "metadata": {
    "collapsed": false,
    "ExecuteTime": {
     "end_time": "2023-12-08T21:33:41.412027189Z",
     "start_time": "2023-12-08T21:33:41.370234678Z"
    }
   },
   "id": "12d025b378155bd7"
  },
  {
   "cell_type": "code",
   "execution_count": null,
   "outputs": [],
   "source": [],
   "metadata": {
    "collapsed": false
   },
   "id": "fdb6d59e279ee289"
  }
 ],
 "metadata": {
  "kernelspec": {
   "display_name": "Python 3",
   "language": "python",
   "name": "python3"
  },
  "language_info": {
   "codemirror_mode": {
    "name": "ipython",
    "version": 2
   },
   "file_extension": ".py",
   "mimetype": "text/x-python",
   "name": "python",
   "nbconvert_exporter": "python",
   "pygments_lexer": "ipython2",
   "version": "2.7.6"
  }
 },
 "nbformat": 4,
 "nbformat_minor": 5
}
