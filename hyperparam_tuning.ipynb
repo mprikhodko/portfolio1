{
 "cells": [
  {
   "cell_type": "code",
   "execution_count": 1,
   "metadata": {
    "pycharm": {
     "name": "#%%\n"
    }
   },
   "outputs": [],
   "source": [
    "from ray import train, tune\n",
    "from layer import Layer\n",
    "from perceptron import Perceptron\n",
    "from network import Network\n",
    "import typing as tp\n",
    "import numpy as np\n",
    "import seaborn as sns\n",
    "import os\n",
    "import pandas as pd\n",
    "import itertools"
   ]
  },
  {
   "cell_type": "code",
   "execution_count": 2,
   "metadata": {
    "pycharm": {
     "name": "#%%\n"
    }
   },
   "outputs": [
    {
     "data": {
      "text/plain": [
       "((10, 2), (10, 1))"
      ]
     },
     "execution_count": 2,
     "metadata": {},
     "output_type": "execute_result"
    }
   ],
   "source": [
    "def min_max_scale(a: np.ndarray) -> np.ndarray:\n",
    "    min_val: np.ndarray = np.min(a, axis=0)\n",
    "    max_val: np.ndarray = np.max(a, axis=0)\n",
    "    return (a - min_val) / (max_val - min_val)\n",
    "\n",
    "x_cols: tp.List[str] = ['LAC', 'SOW']\n",
    "y_cols: tp.List[str] = ['TACA']\n",
    "\n",
    "train_df: pd.DataFrame = pd.read_csv(os.path.join('data', 'train.csv'))\n",
    "test_df: pd.DataFrame = pd.read_csv(os.path.join('data', 'test.csv'))\n",
    "\n",
    "train_X: np.ndarray = min_max_scale(train_df[x_cols].values)\n",
    "train_y: np.ndarray = train_df[y_cols].values\n",
    "\n",
    "test_X: np.ndarray = min_max_scale(test_df[x_cols].values)\n",
    "test_y: np.ndarray = test_df[y_cols].values\n",
    "\n",
    "train_X.shape, train_y.shape"
   ]
  },
  {
   "cell_type": "code",
   "execution_count": 3,
   "metadata": {
    "pycharm": {
     "name": "#%%\n"
    }
   },
   "outputs": [],
   "source": [
    "def get_average_error(net: Network, x: np.ndarray, y: np.ndarray) -> float:\n",
    "    tot_error: float = 0\n",
    "    for i in range(x.shape[0]):\n",
    "        net.feedforward(x[i])\n",
    "        tot_error += net.get_total_error(y[i])\n",
    "    return tot_error\n",
    "\n",
    "def f1_score(pred: np.ndarray, true_y: np.ndarray) -> float:\n",
    "    \"\"\"\n",
    "    Use F1 Score since it is better for unbalanced datasets, which our dataset is.\n",
    "    :param pred:\n",
    "    :param true_y:\n",
    "    :return:\n",
    "    \"\"\"\n",
    "    if isinstance(true_y, list):\n",
    "        true_y: np.ndarray = np.array(true_y)\n",
    "    if isinstance(pred, list):\n",
    "        pred: np.ndarray = np.array(pred)\n",
    "    tol: float = 1e-3\n",
    "\n",
    "    def _is_equal(one: np.ndarray, two: tp.Union[np.ndarray, float]) -> np.ndarray:\n",
    "        return np.abs(one - two) < tol\n",
    "\n",
    "    true_positives: int = int(np.sum(np.logical_and(_is_equal(pred, 1), _is_equal(true_y, 1))))\n",
    "    false_positives: int = int(np.sum(np.logical_and(_is_equal(pred, 1), _is_equal(true_y, 0))))\n",
    "    false_negatives: int = int(np.sum(np.logical_and(_is_equal(pred, 0), _is_equal(true_y, 1))))\n",
    "    denom: float = 2.0 * true_positives + false_positives + false_negatives\n",
    "    if abs(denom - 0) < 1e-3:\n",
    "        return 0\n",
    "    return 2.0 * true_positives / denom"
   ]
  },
  {
   "cell_type": "code",
   "execution_count": 4,
   "metadata": {
    "pycharm": {
     "name": "#%%\n"
    }
   },
   "outputs": [],
   "source": [
    "def objective(config) -> tp.Dict[str, float]:\n",
    "    np.random.seed(config['seed'])\n",
    "    num_nodes: tp.List[int] = [n for n in config['num_nodes'] if n > 0]\n",
    "    if len(num_nodes) < 2:\n",
    "        # Don't have the right number of layers.\n",
    "        return {'error': 1e9, 'f1_score': -1e9}\n",
    "    network: Network = Network().add_layer(\n",
    "        Layer(num_in_features=2,\n",
    "              num_out_features=num_nodes[0],\n",
    "              use_biases=config['use_biases'],\n",
    "              is_hidden_layer=True))\n",
    "    for num_in_nodes, num_out_nodes in itertools.pairwise(num_nodes):\n",
    "        network.add_layer(Layer(num_in_features=num_in_nodes,\n",
    "                                num_out_features=num_out_nodes,\n",
    "                                use_biases=config['use_biases'],\n",
    "                                is_hidden_layer=True))\n",
    "    network.add_layer(Layer(num_in_features=num_nodes[-1],\n",
    "                            num_out_features=1,\n",
    "                            use_biases=config['use_biases'],\n",
    "                            is_hidden_layer=False))\n",
    "    for epoch in range(config['epochs']):\n",
    "        for i in range(train_X.shape[0]):\n",
    "            network.feedforward(train_X[i, :])\n",
    "            network.backprop(config['lr'], train_y[i, :])\n",
    "    predictions: tp.List[int] = []\n",
    "    for i in range(train_X.shape[0]):\n",
    "        predictions.append(network.feedforward(train_X[i, :]))\n",
    "    curr_error: float = get_average_error(network, train_X, train_y)\n",
    "    f1: float = f1_score(pred=np.array(predictions), true_y=train_y)\n",
    "    return {'f1_score': f1, 'error': curr_error}"
   ]
  },
  {
   "cell_type": "code",
   "execution_count": 5,
   "metadata": {
    "pycharm": {
     "name": "#%%\n"
    }
   },
   "outputs": [
    {
     "data": {
      "text/plain": [
       "{'f1_score': 0, 'error': 2.2989093353939873}"
      ]
     },
     "execution_count": 5,
     "metadata": {},
     "output_type": "execute_result"
    }
   ],
   "source": [
    "objective({'seed': 13, 'num_nodes': [2, 4, 0, 0, 8], 'use_biases': True, 'lr': 1e-3, 'epochs': 10})"
   ]
  },
  {
   "cell_type": "code",
   "execution_count": null,
   "outputs": [],
   "source": [
    "class FakeList:\n",
    "    # I just want my list to be hashable. \n",
    "    def __init__(self, l: tp.List[int]):\n",
    "        self.l: tp.List[int] = l\n",
    "    \n",
    "    def __hash__(self) -> int:\n",
    "        return sum(hash((i + 1) * v) for i, v in enumerate(self.l)) % 3010349\n",
    "    \n",
    "    def __getattr__(self, whatever):\n",
    "        return getattr(self.l, whatever)\n",
    "    \n",
    "    def __str__(self) -> str:\n",
    "        return str(self.l)\n",
    "    \n",
    "    def __repr__(self) -> str:\n",
    "        return repr(self.l)\n",
    "    \n",
    "    def to_list(self) -> tp.List[int]:\n",
    "        return self.l"
   ],
   "metadata": {
    "collapsed": false,
    "pycharm": {
     "name": "#%%\n"
    }
   }
  },
  {
   "cell_type": "code",
   "execution_count": null,
   "outputs": [],
   "source": [
    "v = FakeList([1, 2, 3])\n",
    "v.append(23)\n",
    "v, hash(v)"
   ],
   "metadata": {
    "collapsed": false,
    "pycharm": {
     "name": "#%%\n"
    }
   }
  },
  {
   "cell_type": "code",
   "execution_count": null,
   "outputs": [],
   "source": [
    "s = {1, 2, 3}\n",
    "len(s.intersection([2, 3, 4]))"
   ],
   "metadata": {
    "collapsed": false,
    "pycharm": {
     "name": "#%%\n"
    }
   }
  },
  {
   "cell_type": "code",
   "execution_count": null,
   "outputs": [],
   "source": [
    "def get_all_possible_layers(max_num_layers: int, max_nodes_log2: int, max_tries: int = 10, block_size: int = 64, max_num_iter: int = 10_000) -> tp.List[tp.List[int]]:\n",
    "    listing: tp.Set[FakeList] = set()\n",
    "    np.random.seed(13)\n",
    "    \n",
    "    def _helper() -> tp.List[FakeList]:\n",
    "        block: np.ndarray = (2 ** np.random.randint(-1, 1 + max_nodes_log2, size=(block_size, max_num_layers), dtype=int).astype(float)).astype(int)\n",
    "        block = block[np.sum(block, axis=1) > 2]\n",
    "        return list({FakeList(l.tolist()) for l in block})\n",
    "    \n",
    "    num_tries: int = 0\n",
    "    num_iter: int = 0\n",
    "    \n",
    "    while num_tries < max_tries and num_iter <= max_num_iter:\n",
    "        configs: tp.List[FakeList] = _helper()\n",
    "        while len(listing.intersection(configs)) >= block_size // 2:\n",
    "            num_tries += 1\n",
    "        num_tries = 0\n",
    "        listing.update(configs)\n",
    "        num_iter += 1\n",
    "    return [l.to_list() for l in list(listing)]"
   ],
   "metadata": {
    "collapsed": false,
    "pycharm": {
     "name": "#%%\n"
    }
   }
  },
  {
   "cell_type": "code",
   "execution_count": null,
   "outputs": [],
   "source": [
    "layers_config_path: str = os.path.join('data', 'layer_config.txt.gz')\n",
    "if not os.path.exists(layers_config_path):\n",
    "    layer_config: tp.List[tp.List[int]] = get_all_possible_layers(5, 4, max_tries = 2, max_num_iter = 5_000)\n",
    "    np.savetxt(layers_config_path, np.array(layer_config).astype(int))\n",
    "else:\n",
    "    layer_config: tp.List[tp.List[int]] = [a.tolist() for a in np.loadtxt(layers_config_path).astype(int)]\n",
    "layer_config[:5], len(layer_config)"
   ],
   "metadata": {
    "collapsed": false,
    "pycharm": {
     "name": "#%%\n"
    }
   }
  },
  {
   "cell_type": "code",
   "execution_count": null,
   "outputs": [],
   "source": [
    "len(f'{1 * 1024 * 1024 * 1024}'), len('1073741824')"
   ],
   "metadata": {
    "collapsed": false,
    "pycharm": {
     "name": "#%%\n"
    }
   }
  },
  {
   "cell_type": "code",
   "execution_count": null,
   "outputs": [],
   "source": [
    "import ray \n",
    "\n",
    "memory_to_use_GB: int = 8\n",
    "\n",
    "ray.init(num_gpus=0, object_store_memory=1024*1024*1024*memory_to_use_GB)"
   ],
   "metadata": {
    "collapsed": false,
    "pycharm": {
     "name": "#%%\n"
    }
   }
  },
  {
   "cell_type": "code",
   "execution_count": null,
   "outputs": [],
   "source": [
    "# https://docs.ray.io/en/latest/tune/index.html\n",
    "\n",
    "max_num_layers: int = 5\n",
    "max_num_nodes: int = int(np.log2(2 ** 4))\n",
    "\n",
    "search_space = {\n",
    "    'epochs': tune.grid_search(list(range(30, 61, 10))),\n",
    "    'lr': 1e-1,\n",
    "    'seed': tune.grid_search(list(range(25))),\n",
    "    'use_biases': False,\n",
    "    'num_nodes': tune.grid_search(layer_config[:5_000])\n",
    "}\n",
    "\n",
    "tuner = tune.Tuner(tune.with_resources(\n",
    "        objective, resources={}\n",
    "    ), objective, param_space=search_space, tune_config=tune.TuneConfig(scheduler=tune.schedulers.ASHAScheduler(metric='f1_score', mode='max'), num_samples=1))\n",
    "\n",
    "results = tuner.fit()\n",
    "results.get_best_result(metric='f1_score', mode='max')"
   ],
   "metadata": {
    "collapsed": false,
    "pycharm": {
     "name": "#%%\n"
    }
   }
  },
  {
   "cell_type": "code",
   "execution_count": null,
   "outputs": [],
   "source": [
    "import pickle"
   ],
   "metadata": {
    "collapsed": false,
    "pycharm": {
     "name": "#%%\n"
    }
   }
  },
  {
   "cell_type": "code",
   "execution_count": null,
   "outputs": [],
   "source": [
    "with open(os.path.join('data', 'best_results.pkl'), 'wb') as f:\n",
    "    pickle.dump(results.get_best_result(metric='f1_score', mode='max'), f)"
   ],
   "metadata": {
    "collapsed": false,
    "pycharm": {
     "name": "#%%\n"
    }
   }
  },
  {
   "cell_type": "code",
   "execution_count": null,
   "outputs": [],
   "source": [
    "results"
   ],
   "metadata": {
    "collapsed": false,
    "pycharm": {
     "name": "#%%\n"
    }
   }
  },
  {
   "cell_type": "code",
   "execution_count": 8,
   "metadata": {
    "pycharm": {
     "name": "#%%\n"
    }
   },
   "outputs": [
    {
     "data": {
      "text/plain": [
       "2"
      ]
     },
     "execution_count": 8,
     "metadata": {},
     "output_type": "execute_result"
    }
   ],
   "source": [
    "s = {1, 2, 3}\n",
    "len(s.intersection([2, 3, 4]))"
   ]
  },
  {
   "cell_type": "code",
   "execution_count": 9,
   "metadata": {
    "pycharm": {
     "name": "#%%\n"
    }
   },
   "outputs": [],
   "source": [
    "def get_all_possible_layers(max_num_layers: int, max_nodes_log2: int, max_tries: int = 10, block_size: int = 64, max_num_iter: int = 10_000) -> tp.List[tp.List[int]]:\n",
    "    listing: tp.Set[FakeList] = set()\n",
    "    np.random.seed(13)\n",
    "    \n",
    "    def _helper() -> tp.List[FakeList]:\n",
    "        block: np.ndarray = (2 ** np.random.randint(-1, 1 + max_nodes_log2, size=(block_size, max_num_layers), dtype=int).astype(float)).astype(int)\n",
    "        block = block[np.sum(block, axis=1) > 2]\n",
    "        return list({FakeList(l.tolist()) for l in block})\n",
    "    \n",
    "    num_tries: int = 0\n",
    "    num_iter: int = 0\n",
    "    \n",
    "    while num_tries < max_tries and num_iter <= max_num_iter:\n",
    "        configs: tp.List[FakeList] = _helper()\n",
    "        while len(listing.intersection(configs)) >= block_size // 2:\n",
    "            num_tries += 1\n",
    "        num_tries = 0\n",
    "        listing.update(configs)\n",
    "        num_iter += 1\n",
    "    return [l.to_list() for l in list(listing)]"
   ]
  },
  {
   "cell_type": "code",
   "execution_count": 10,
   "metadata": {
    "pycharm": {
     "name": "#%%\n"
    }
   },
   "outputs": [
    {
     "data": {
      "text/plain": [
       "([[1, 0, 1, 0, 1],\n",
       "  [0, 0, 2, 1, 0],\n",
       "  [0, 1, 0, 0, 4],\n",
       "  [2, 0, 1, 1, 1],\n",
       "  [2, 0, 2, 0, 2]],\n",
       " 319212)"
      ]
     },
     "execution_count": 10,
     "metadata": {},
     "output_type": "execute_result"
    }
   ],
   "source": [
    "layers_config_path: str = os.path.join('data', 'layer_config.txt.gz')\n",
    "if not os.path.exists(layers_config_path):\n",
    "    layer_config: tp.List[tp.List[int]] = get_all_possible_layers(5, 4, max_tries = 2, max_num_iter = 5_000)\n",
    "    np.savetxt(layers_config_path, np.array(layer_config).astype(int))\n",
    "else:\n",
    "    layer_config: tp.List[tp.List[int]] = [a.tolist() for a in np.loadtxt(layers_config_path).astype(int)]\n",
    "layer_config[:5], len(layer_config)"
   ]
  },
  {
   "cell_type": "code",
   "execution_count": 11,
   "metadata": {
    "pycharm": {
     "name": "#%%\n"
    }
   },
   "outputs": [
    {
     "data": {
      "text/plain": [
       "(10, 10)"
      ]
     },
     "execution_count": 11,
     "metadata": {},
     "output_type": "execute_result"
    }
   ],
   "source": [
    "len(f'{1 * 1024 * 1024 * 1024}'), len('1073741824')"
   ]
  },
  {
   "cell_type": "code",
   "execution_count": 12,
   "metadata": {
    "pycharm": {
     "name": "#%%\n"
    }
   },
   "outputs": [
    {
     "name": "stderr",
     "output_type": "stream",
     "text": [
      "2023-11-19 09:41:12,951\tWARNING services.py:1996 -- WARNING: The object store is using /tmp instead of /dev/shm because /dev/shm has only 8230793216 bytes available. This will harm performance! You may be able to free up space by deleting files in /dev/shm. If you are inside a Docker container, you can increase /dev/shm size by passing '--shm-size=8.80gb' to 'docker run' (or add it to the run_options list in a Ray cluster config). Make sure to set this to more than 30% of available RAM.\n",
      "2023-11-19 09:41:13,993\tINFO worker.py:1673 -- Started a local Ray instance.\n"
     ]
    },
    {
     "data": {
      "application/vnd.jupyter.widget-view+json": {
       "model_id": "55fd10aa6cf842bca3cdb4428d1e9ce9",
       "version_major": 2,
       "version_minor": 0
      },
      "text/html": [
       "<div class=\"lm-Widget p-Widget lm-Panel p-Panel jp-Cell-outputWrapper\">\n",
       "    <div style=\"margin-left: 50px;display: flex;flex-direction: row;align-items: center\">\n",
       "        <div class=\"jp-RenderedHTMLCommon\" style=\"display: flex; flex-direction: row;\">\n",
       "  <svg viewBox=\"0 0 567 224\" fill=\"none\" xmlns=\"http://www.w3.org/2000/svg\" style=\"height: 3em;\">\n",
       "    <g clip-path=\"url(#clip0_4338_178347)\">\n",
       "        <path d=\"M341.29 165.561H355.29L330.13 129.051C345.63 123.991 354.21 112.051 354.21 94.2307C354.21 71.3707 338.72 58.1807 311.88 58.1807H271V165.561H283.27V131.661H311.8C314.25 131.661 316.71 131.501 319.01 131.351L341.25 165.561H341.29ZM283.29 119.851V70.0007H311.82C331.3 70.0007 342.34 78.2907 342.34 94.5507C342.34 111.271 331.34 119.861 311.82 119.861L283.29 119.851ZM451.4 138.411L463.4 165.561H476.74L428.74 58.1807H416L367.83 165.561H380.83L392.83 138.411H451.4ZM446.19 126.601H398L422 72.1407L446.24 126.601H446.19ZM526.11 128.741L566.91 58.1807H554.35L519.99 114.181L485.17 58.1807H472.44L514.01 129.181V165.541H526.13V128.741H526.11Z\" fill=\"var(--jp-ui-font-color0)\"/>\n",
       "        <path d=\"M82.35 104.44C84.0187 97.8827 87.8248 92.0678 93.1671 87.9146C98.5094 83.7614 105.083 81.5067 111.85 81.5067C118.617 81.5067 125.191 83.7614 130.533 87.9146C135.875 92.0678 139.681 97.8827 141.35 104.44H163.75C164.476 101.562 165.622 98.8057 167.15 96.2605L127.45 56.5605C121.071 60.3522 113.526 61.6823 106.235 60.3005C98.9443 58.9187 92.4094 54.9203 87.8602 49.0574C83.3109 43.1946 81.0609 35.8714 81.5332 28.4656C82.0056 21.0599 85.1679 14.0819 90.4252 8.8446C95.6824 3.60726 102.672 0.471508 110.08 0.0272655C117.487 -0.416977 124.802 1.86091 130.647 6.4324C136.493 11.0039 140.467 17.5539 141.821 24.8501C143.175 32.1463 141.816 39.6859 138 46.0505L177.69 85.7505C182.31 82.9877 187.58 81.4995 192.962 81.4375C198.345 81.3755 203.648 82.742 208.33 85.3976C213.012 88.0532 216.907 91.9029 219.616 96.5544C222.326 101.206 223.753 106.492 223.753 111.875C223.753 117.258 222.326 122.545 219.616 127.197C216.907 131.848 213.012 135.698 208.33 138.353C203.648 141.009 198.345 142.375 192.962 142.313C187.58 142.251 182.31 140.763 177.69 138L138 177.7C141.808 184.071 143.155 191.614 141.79 198.91C140.424 206.205 136.44 212.75 130.585 217.313C124.731 221.875 117.412 224.141 110.004 223.683C102.596 223.226 95.6103 220.077 90.3621 214.828C85.1139 209.58 81.9647 202.595 81.5072 195.187C81.0497 187.779 83.3154 180.459 87.878 174.605C92.4405 168.751 98.9853 164.766 106.281 163.401C113.576 162.035 121.119 163.383 127.49 167.19L167.19 127.49C165.664 124.941 164.518 122.182 163.79 119.3H141.39C139.721 125.858 135.915 131.673 130.573 135.826C125.231 139.98 118.657 142.234 111.89 142.234C105.123 142.234 98.5494 139.98 93.2071 135.826C87.8648 131.673 84.0587 125.858 82.39 119.3H60C58.1878 126.495 53.8086 132.78 47.6863 136.971C41.5641 141.163 34.1211 142.972 26.7579 142.059C19.3947 141.146 12.6191 137.574 7.70605 132.014C2.79302 126.454 0.0813599 119.29 0.0813599 111.87C0.0813599 104.451 2.79302 97.2871 7.70605 91.7272C12.6191 86.1673 19.3947 82.5947 26.7579 81.6817C34.1211 80.7686 41.5641 82.5781 47.6863 86.7696C53.8086 90.9611 58.1878 97.2456 60 104.44H82.35ZM100.86 204.32C103.407 206.868 106.759 208.453 110.345 208.806C113.93 209.159 117.527 208.258 120.522 206.256C123.517 204.254 125.725 201.276 126.771 197.828C127.816 194.38 127.633 190.677 126.253 187.349C124.874 184.021 122.383 181.274 119.205 179.577C116.027 177.88 112.359 177.337 108.826 178.042C105.293 178.746 102.113 180.654 99.8291 183.44C97.5451 186.226 96.2979 189.718 96.3 193.32C96.2985 195.364 96.7006 197.388 97.4831 199.275C98.2656 201.163 99.4132 202.877 100.86 204.32ZM204.32 122.88C206.868 120.333 208.453 116.981 208.806 113.396C209.159 109.811 208.258 106.214 206.256 103.219C204.254 100.223 201.275 98.0151 197.827 96.97C194.38 95.9249 190.676 96.1077 187.348 97.4873C184.02 98.8669 181.274 101.358 179.577 104.536C177.879 107.714 177.337 111.382 178.041 114.915C178.746 118.448 180.653 121.627 183.439 123.911C186.226 126.195 189.717 127.443 193.32 127.44C195.364 127.443 197.388 127.042 199.275 126.259C201.163 125.476 202.878 124.328 204.32 122.88ZM122.88 19.4205C120.333 16.8729 116.981 15.2876 113.395 14.9347C109.81 14.5817 106.213 15.483 103.218 17.4849C100.223 19.4868 98.0146 22.4654 96.9696 25.9131C95.9245 29.3608 96.1073 33.0642 97.4869 36.3922C98.8665 39.7202 101.358 42.4668 104.535 44.1639C107.713 45.861 111.381 46.4036 114.914 45.6992C118.447 44.9949 121.627 43.0871 123.911 40.301C126.195 37.515 127.442 34.0231 127.44 30.4205C127.44 28.3772 127.038 26.3539 126.255 24.4664C125.473 22.5788 124.326 20.8642 122.88 19.4205ZM19.42 100.86C16.8725 103.408 15.2872 106.76 14.9342 110.345C14.5813 113.93 15.4826 117.527 17.4844 120.522C19.4863 123.518 22.4649 125.726 25.9127 126.771C29.3604 127.816 33.0638 127.633 36.3918 126.254C39.7198 124.874 42.4664 122.383 44.1635 119.205C45.8606 116.027 46.4032 112.359 45.6988 108.826C44.9944 105.293 43.0866 102.114 40.3006 99.8296C37.5145 97.5455 34.0227 96.2983 30.42 96.3005C26.2938 96.3018 22.337 97.9421 19.42 100.86ZM100.86 100.86C98.3125 103.408 96.7272 106.76 96.3742 110.345C96.0213 113.93 96.9226 117.527 98.9244 120.522C100.926 123.518 103.905 125.726 107.353 126.771C110.8 127.816 114.504 127.633 117.832 126.254C121.16 124.874 123.906 122.383 125.604 119.205C127.301 116.027 127.843 112.359 127.139 108.826C126.434 105.293 124.527 102.114 121.741 99.8296C118.955 97.5455 115.463 96.2983 111.86 96.3005C109.817 96.299 107.793 96.701 105.905 97.4835C104.018 98.2661 102.303 99.4136 100.86 100.86Z\" fill=\"#00AEEF\"/>\n",
       "    </g>\n",
       "    <defs>\n",
       "        <clipPath id=\"clip0_4338_178347\">\n",
       "            <rect width=\"566.93\" height=\"223.75\" fill=\"white\"/>\n",
       "        </clipPath>\n",
       "    </defs>\n",
       "  </svg>\n",
       "</div>\n",
       "\n",
       "        <table class=\"jp-RenderedHTMLCommon\" style=\"border-collapse: collapse;color: var(--jp-ui-font-color1);font-size: var(--jp-ui-font-size1);\">\n",
       "    <tr>\n",
       "        <td style=\"text-align: left\"><b>Python version:</b></td>\n",
       "        <td style=\"text-align: left\"><b>3.10.13</b></td>\n",
       "    </tr>\n",
       "    <tr>\n",
       "        <td style=\"text-align: left\"><b>Ray version:</b></td>\n",
       "        <td style=\"text-align: left\"><b>2.8.0</b></td>\n",
       "    </tr>\n",
       "    \n",
       "</table>\n",
       "\n",
       "    </div>\n",
       "</div>\n"
      ],
      "text/plain": [
       "RayContext(dashboard_url='', python_version='3.10.13', ray_version='2.8.0', ray_commit='105355bd253d6538ed34d331f6a4bdf0e38ace3a', protocol_version=None)"
      ]
     },
     "execution_count": 12,
     "metadata": {},
     "output_type": "execute_result"
    }
   ],
   "source": [
    "import ray \n",
    "\n",
    "memory_to_use_GB: int = 8\n",
    "\n",
    "ray.init(num_gpus=0, object_store_memory=1024*1024*1024*memory_to_use_GB)"
   ]
  },
  {
   "cell_type": "code",
   "execution_count": 13,
   "metadata": {
    "pycharm": {
     "name": "#%%\n"
    }
   },
   "outputs": [
    {
     "data": {
      "text/html": [
       "<div class=\"tuneStatus\">\n",
       "  <div style=\"display: flex;flex-direction: row\">\n",
       "    <div style=\"display: flex;flex-direction: column;\">\n",
       "      <h3>Tune Status</h3>\n",
       "      <table>\n",
       "<tbody>\n",
       "<tr><td>Current time:</td><td>2023-11-19 18:31:27</td></tr>\n",
       "<tr><td>Running for: </td><td>08:50:11.69        </td></tr>\n",
       "<tr><td>Memory:      </td><td>14.1/15.3 GiB      </td></tr>\n",
       "</tbody>\n",
       "</table>\n",
       "    </div>\n",
       "    <div class=\"vDivider\"></div>\n",
       "    <div class=\"systemInfo\">\n",
       "      <h3>System Info</h3>\n",
       "      Using AsyncHyperBand: num_stopped=176<br>Bracket: Iter 64.000: None | Iter 16.000: None | Iter 4.000: None | Iter 1.000: 0.0<br>Logical resource usage: 16.0/16 CPUs, 0/0 GPUs\n",
       "    </div>\n",
       "    <div class=\"vDivider\"></div>\n",
       "<div class=\"messages\">\n",
       "  <h3>Messages</h3>\n",
       "  : ***LOW MEMORY*** less than 10% of the memory on this node is available for use. This can cause unexpected crashes. Consider reducing the memory used by your application or reducing the Ray object store size by setting `object_store_memory` when calling `ray.init`.\n",
       "  ... 126680 more trials not shown (6 RUNNING, 9 PENDING, 126664 TERMINATED)\n",
       "  \n",
       "</div>\n",
       "<style>\n",
       ".messages {\n",
       "  color: var(--jp-ui-font-color1);\n",
       "  display: flex;\n",
       "  flex-direction: column;\n",
       "  padding-left: 1em;\n",
       "  overflow-y: auto;\n",
       "}\n",
       ".messages h3 {\n",
       "  font-weight: bold;\n",
       "}\n",
       ".vDivider {\n",
       "  border-left-width: var(--jp-border-width);\n",
       "  border-left-color: var(--jp-border-color0);\n",
       "  border-left-style: solid;\n",
       "  margin: 0.5em 1em 0.5em 1em;\n",
       "}\n",
       "</style>\n",
       "\n",
       "  </div>\n",
       "  <div class=\"hDivider\"></div>\n",
       "  <div class=\"trialStatus\">\n",
       "    <h3>Trial Status</h3>\n",
       "    <table>\n",
       "<thead>\n",
       "<tr><th>Trial name            </th><th>status    </th><th>loc               </th><th style=\"text-align: right;\">  epochs</th><th>num_nodes        </th><th style=\"text-align: right;\">  seed</th><th style=\"text-align: right;\">  iter</th><th style=\"text-align: right;\">  total time (s)</th><th style=\"text-align: right;\">  f1_score</th><th style=\"text-align: right;\">  error</th></tr>\n",
       "</thead>\n",
       "<tbody>\n",
       "<tr><td>objective_b0e04_126651</td><td>RUNNING   </td><td>10.0.0.227:1398524</td><td style=\"text-align: right;\">      60</td><td>[16, 2, 0, 8, 16]</td><td style=\"text-align: right;\">     6</td><td style=\"text-align: right;\">      </td><td style=\"text-align: right;\">                </td><td style=\"text-align: right;\">          </td><td style=\"text-align: right;\">       </td></tr>\n",
       "<tr><td>objective_b0e04_126665</td><td>RUNNING   </td><td>10.0.0.227:1398520</td><td style=\"text-align: right;\">      40</td><td>[16, 16, 8, 1, 1]</td><td style=\"text-align: right;\">     6</td><td style=\"text-align: right;\">      </td><td style=\"text-align: right;\">                </td><td style=\"text-align: right;\">          </td><td style=\"text-align: right;\">       </td></tr>\n",
       "<tr><td>objective_b0e04_126668</td><td>RUNNING   </td><td>10.0.0.227:1398518</td><td style=\"text-align: right;\">      30</td><td>[2, 16, 0, 8, 16]</td><td style=\"text-align: right;\">     6</td><td style=\"text-align: right;\">      </td><td style=\"text-align: right;\">                </td><td style=\"text-align: right;\">          </td><td style=\"text-align: right;\">       </td></tr>\n",
       "<tr><td>objective_b0e04_126669</td><td>RUNNING   </td><td>10.0.0.227:1398515</td><td style=\"text-align: right;\">      40</td><td>[2, 16, 0, 8, 16]</td><td style=\"text-align: right;\">     6</td><td style=\"text-align: right;\">     1</td><td style=\"text-align: right;\">        2.1296  </td><td style=\"text-align: right;\">  0.666667</td><td style=\"text-align: right;\">2.49985</td></tr>\n",
       "<tr><td>objective_b0e04_126671</td><td>RUNNING   </td><td>10.0.0.227:1398516</td><td style=\"text-align: right;\">      60</td><td>[2, 16, 0, 8, 16]</td><td style=\"text-align: right;\">     6</td><td style=\"text-align: right;\">      </td><td style=\"text-align: right;\">                </td><td style=\"text-align: right;\">          </td><td style=\"text-align: right;\">       </td></tr>\n",
       "<tr><td>objective_b0e04_126674</td><td>RUNNING   </td><td>10.0.0.227:1398511</td><td style=\"text-align: right;\">      50</td><td>[16, 2, 4, 4, 16]</td><td style=\"text-align: right;\">     6</td><td style=\"text-align: right;\">      </td><td style=\"text-align: right;\">                </td><td style=\"text-align: right;\">          </td><td style=\"text-align: right;\">       </td></tr>\n",
       "<tr><td>objective_b0e04_126675</td><td>RUNNING   </td><td>10.0.0.227:1398510</td><td style=\"text-align: right;\">      60</td><td>[16, 2, 4, 4, 16]</td><td style=\"text-align: right;\">     6</td><td style=\"text-align: right;\">      </td><td style=\"text-align: right;\">                </td><td style=\"text-align: right;\">          </td><td style=\"text-align: right;\">       </td></tr>\n",
       "<tr><td>objective_b0e04_126679</td><td>PENDING   </td><td>10.0.0.227:1398509</td><td style=\"text-align: right;\">      60</td><td>[16, 0, 8, 16, 2]</td><td style=\"text-align: right;\">     6</td><td style=\"text-align: right;\">      </td><td style=\"text-align: right;\">                </td><td style=\"text-align: right;\">          </td><td style=\"text-align: right;\">       </td></tr>\n",
       "<tr><td>objective_b0e04_126682</td><td>PENDING   </td><td>                  </td><td style=\"text-align: right;\">      50</td><td>[1, 8, 2, 16, 0] </td><td style=\"text-align: right;\">     6</td><td style=\"text-align: right;\">      </td><td style=\"text-align: right;\">                </td><td style=\"text-align: right;\">          </td><td style=\"text-align: right;\">       </td></tr>\n",
       "<tr><td>objective_b0e04_126683</td><td>PENDING   </td><td>10.0.0.227:1398513</td><td style=\"text-align: right;\">      60</td><td>[1, 8, 2, 16, 0] </td><td style=\"text-align: right;\">     6</td><td style=\"text-align: right;\">      </td><td style=\"text-align: right;\">                </td><td style=\"text-align: right;\">          </td><td style=\"text-align: right;\">       </td></tr>\n",
       "<tr><td>objective_b0e04_126684</td><td>PENDING   </td><td>                  </td><td style=\"text-align: right;\">      30</td><td>[4, 1, 2, 16, 4] </td><td style=\"text-align: right;\">     6</td><td style=\"text-align: right;\">      </td><td style=\"text-align: right;\">                </td><td style=\"text-align: right;\">          </td><td style=\"text-align: right;\">       </td></tr>\n",
       "<tr><td>objective_b0e04_126686</td><td>PENDING   </td><td>                  </td><td style=\"text-align: right;\">      50</td><td>[4, 1, 2, 16, 4] </td><td style=\"text-align: right;\">     6</td><td style=\"text-align: right;\">      </td><td style=\"text-align: right;\">                </td><td style=\"text-align: right;\">          </td><td style=\"text-align: right;\">       </td></tr>\n",
       "<tr><td>objective_b0e04_126687</td><td>PENDING   </td><td>                  </td><td style=\"text-align: right;\">      60</td><td>[4, 1, 2, 16, 4] </td><td style=\"text-align: right;\">     6</td><td style=\"text-align: right;\">      </td><td style=\"text-align: right;\">                </td><td style=\"text-align: right;\">          </td><td style=\"text-align: right;\">       </td></tr>\n",
       "<tr><td>objective_b0e04_126688</td><td>PENDING   </td><td>                  </td><td style=\"text-align: right;\">      30</td><td>[0, 2, 8, 16, 1] </td><td style=\"text-align: right;\">     6</td><td style=\"text-align: right;\">      </td><td style=\"text-align: right;\">                </td><td style=\"text-align: right;\">          </td><td style=\"text-align: right;\">       </td></tr>\n",
       "<tr><td>objective_b0e04_00000 </td><td>TERMINATED</td><td>10.0.0.227:1398509</td><td style=\"text-align: right;\">      30</td><td>[1, 0, 1, 0, 1]  </td><td style=\"text-align: right;\">     0</td><td style=\"text-align: right;\">     1</td><td style=\"text-align: right;\">        0.138603</td><td style=\"text-align: right;\">  0       </td><td style=\"text-align: right;\">1.27446</td></tr>\n",
       "<tr><td>objective_b0e04_00001 </td><td>TERMINATED</td><td>10.0.0.227:1398510</td><td style=\"text-align: right;\">      40</td><td>[1, 0, 1, 0, 1]  </td><td style=\"text-align: right;\">     0</td><td style=\"text-align: right;\">     1</td><td style=\"text-align: right;\">        0.183439</td><td style=\"text-align: right;\">  0       </td><td style=\"text-align: right;\">1.26609</td></tr>\n",
       "<tr><td>objective_b0e04_00002 </td><td>TERMINATED</td><td>10.0.0.227:1398511</td><td style=\"text-align: right;\">      50</td><td>[1, 0, 1, 0, 1]  </td><td style=\"text-align: right;\">     0</td><td style=\"text-align: right;\">     1</td><td style=\"text-align: right;\">        0.143972</td><td style=\"text-align: right;\">  0       </td><td style=\"text-align: right;\">1.26056</td></tr>\n",
       "<tr><td>objective_b0e04_00003 </td><td>TERMINATED</td><td>10.0.0.227:1398512</td><td style=\"text-align: right;\">      60</td><td>[1, 0, 1, 0, 1]  </td><td style=\"text-align: right;\">     0</td><td style=\"text-align: right;\">     1</td><td style=\"text-align: right;\">        0.19361 </td><td style=\"text-align: right;\">  0       </td><td style=\"text-align: right;\">1.25692</td></tr>\n",
       "<tr><td>objective_b0e04_00004 </td><td>TERMINATED</td><td>10.0.0.227:1398513</td><td style=\"text-align: right;\">      30</td><td>[0, 0, 2, 1, 0]  </td><td style=\"text-align: right;\">     0</td><td style=\"text-align: right;\">     1</td><td style=\"text-align: right;\">        0.134278</td><td style=\"text-align: right;\">  0       </td><td style=\"text-align: right;\">1.25405</td></tr>\n",
       "<tr><td>objective_b0e04_00005 </td><td>TERMINATED</td><td>10.0.0.227:1398514</td><td style=\"text-align: right;\">      40</td><td>[0, 0, 2, 1, 0]  </td><td style=\"text-align: right;\">     0</td><td style=\"text-align: right;\">     1</td><td style=\"text-align: right;\">        0.165174</td><td style=\"text-align: right;\">  0       </td><td style=\"text-align: right;\">1.25212</td></tr>\n",
       "<tr><td>objective_b0e04_00006 </td><td>TERMINATED</td><td>10.0.0.227:1398515</td><td style=\"text-align: right;\">      50</td><td>[0, 0, 2, 1, 0]  </td><td style=\"text-align: right;\">     0</td><td style=\"text-align: right;\">     1</td><td style=\"text-align: right;\">        0.112346</td><td style=\"text-align: right;\">  0       </td><td style=\"text-align: right;\">1.25107</td></tr>\n",
       "</tbody>\n",
       "</table>\n",
       "  </div>\n",
       "</div>\n",
       "<style>\n",
       ".tuneStatus {\n",
       "  color: var(--jp-ui-font-color1);\n",
       "}\n",
       ".tuneStatus .systemInfo {\n",
       "  display: flex;\n",
       "  flex-direction: column;\n",
       "}\n",
       ".tuneStatus td {\n",
       "  white-space: nowrap;\n",
       "}\n",
       ".tuneStatus .trialStatus {\n",
       "  display: flex;\n",
       "  flex-direction: column;\n",
       "}\n",
       ".tuneStatus h3 {\n",
       "  font-weight: bold;\n",
       "}\n",
       ".tuneStatus .hDivider {\n",
       "  border-bottom-width: var(--jp-border-width);\n",
       "  border-bottom-color: var(--jp-border-color0);\n",
       "  border-bottom-style: solid;\n",
       "}\n",
       ".tuneStatus .vDivider {\n",
       "  border-left-width: var(--jp-border-width);\n",
       "  border-left-color: var(--jp-border-color0);\n",
       "  border-left-style: solid;\n",
       "  margin: 0.5em 1em 0.5em 1em;\n",
       "}\n",
       "</style>\n"
      ],
      "text/plain": [
       "<IPython.core.display.HTML object>"
      ]
     },
     "metadata": {},
     "output_type": "display_data"
    },
    {
     "name": "stderr",
     "output_type": "stream",
     "text": [
      "2023-11-19 12:21:16,657\tWARNING util.py:202 -- The `scheduler.on_trial_result` operation took 2.046 s, which may be a performance bottleneck.\n",
      "2023-11-19 12:21:16,659\tWARNING util.py:202 -- The `process_trial_result` operation took 2.048 s, which may be a performance bottleneck.\n",
      "2023-11-19 12:21:16,660\tWARNING util.py:202 -- Processing trial results took 2.049 s, which may be a performance bottleneck. Please consider reporting results less frequently to Ray Tune.\n",
      "2023-11-19 12:21:16,660\tWARNING util.py:202 -- The `process_trial_result` operation took 2.049 s, which may be a performance bottleneck.\n",
      "2023-11-19 12:31:16,899\tWARNING util.py:202 -- The `choose_trial_to_run` operation took 2.259 s, which may be a performance bottleneck.\n",
      "2023-11-19 12:41:17,811\tWARNING util.py:202 -- The `choose_trial_to_run` operation took 3.162 s, which may be a performance bottleneck.\n",
      "2023-11-19 12:51:17,023\tWARNING util.py:202 -- The `choose_trial_to_run` operation took 2.349 s, which may be a performance bottleneck.\n",
      "2023-11-19 13:01:16,947\tWARNING util.py:202 -- The `scheduler.on_trial_result` operation took 2.274 s, which may be a performance bottleneck.\n",
      "2023-11-19 13:01:16,949\tWARNING util.py:202 -- The `process_trial_result` operation took 2.276 s, which may be a performance bottleneck.\n",
      "2023-11-19 13:01:16,950\tWARNING util.py:202 -- Processing trial results took 2.277 s, which may be a performance bottleneck. Please consider reporting results less frequently to Ray Tune.\n",
      "2023-11-19 13:01:16,950\tWARNING util.py:202 -- The `process_trial_result` operation took 2.278 s, which may be a performance bottleneck.\n",
      "2023-11-19 13:21:17,707\tWARNING util.py:202 -- The `choose_trial_to_run` operation took 2.960 s, which may be a performance bottleneck.\n",
      "2023-11-19 13:31:17,715\tWARNING util.py:202 -- The `choose_trial_to_run` operation took 2.993 s, which may be a performance bottleneck.\n",
      "2023-11-19 13:41:17,154\tWARNING util.py:202 -- The `choose_trial_to_run` operation took 2.337 s, which may be a performance bottleneck.\n",
      "2023-11-19 13:51:17,367\tWARNING util.py:202 -- The `scheduler.on_trial_result` operation took 2.479 s, which may be a performance bottleneck.\n",
      "2023-11-19 13:51:17,369\tWARNING util.py:202 -- The `process_trial_result` operation took 2.482 s, which may be a performance bottleneck.\n",
      "2023-11-19 13:51:17,370\tWARNING util.py:202 -- Processing trial results took 2.483 s, which may be a performance bottleneck. Please consider reporting results less frequently to Ray Tune.\n",
      "2023-11-19 13:51:17,370\tWARNING util.py:202 -- The `process_trial_result` operation took 2.483 s, which may be a performance bottleneck.\n",
      "2023-11-19 14:01:17,536\tWARNING util.py:202 -- The `choose_trial_to_run` operation took 2.591 s, which may be a performance bottleneck.\n",
      "2023-11-19 14:11:17,873\tWARNING util.py:202 -- The `choose_trial_to_run` operation took 2.870 s, which may be a performance bottleneck.\n",
      "2023-11-19 14:41:17,964\tWARNING util.py:202 -- The `scheduler.on_trial_result` operation took 2.813 s, which may be a performance bottleneck.\n",
      "2023-11-19 14:41:17,966\tWARNING util.py:202 -- The `process_trial_result` operation took 2.815 s, which may be a performance bottleneck.\n",
      "2023-11-19 14:41:17,967\tWARNING util.py:202 -- Processing trial results took 2.815 s, which may be a performance bottleneck. Please consider reporting results less frequently to Ray Tune.\n",
      "2023-11-19 14:41:17,967\tWARNING util.py:202 -- The `process_trial_result` operation took 2.816 s, which may be a performance bottleneck.\n",
      "2023-11-19 15:31:18,921\tWARNING util.py:202 -- The `choose_trial_to_run` operation took 3.605 s, which may be a performance bottleneck.\n",
      "2023-11-19 15:41:18,448\tWARNING util.py:202 -- The `choose_trial_to_run` operation took 3.088 s, which may be a performance bottleneck.\n",
      "2023-11-19 15:51:18,647\tWARNING util.py:202 -- The `choose_trial_to_run` operation took 3.256 s, which may be a performance bottleneck.\n",
      "2023-11-19 16:01:18,672\tWARNING util.py:202 -- The `choose_trial_to_run` operation took 3.281 s, which may be a performance bottleneck.\n",
      "2023-11-19 16:11:18,720\tWARNING util.py:202 -- The `choose_trial_to_run` operation took 3.325 s, which may be a performance bottleneck.\n",
      "2023-11-19 16:21:18,885\tWARNING util.py:202 -- The `scheduler.on_trial_result` operation took 3.456 s, which may be a performance bottleneck.\n",
      "2023-11-19 16:21:18,887\tWARNING util.py:202 -- The `process_trial_result` operation took 3.459 s, which may be a performance bottleneck.\n",
      "2023-11-19 16:21:18,888\tWARNING util.py:202 -- Processing trial results took 3.459 s, which may be a performance bottleneck. Please consider reporting results less frequently to Ray Tune.\n",
      "2023-11-19 16:21:18,888\tWARNING util.py:202 -- The `process_trial_result` operation took 3.460 s, which may be a performance bottleneck.\n",
      "2023-11-19 16:31:19,045\tWARNING util.py:202 -- The `choose_trial_to_run` operation took 3.583 s, which may be a performance bottleneck.\n",
      "2023-11-19 16:51:19,031\tWARNING util.py:202 -- The `scheduler.on_trial_result` operation took 3.548 s, which may be a performance bottleneck.\n",
      "2023-11-19 16:51:19,034\tWARNING util.py:202 -- The `process_trial_result` operation took 3.551 s, which may be a performance bottleneck.\n",
      "2023-11-19 16:51:19,034\tWARNING util.py:202 -- Processing trial results took 3.551 s, which may be a performance bottleneck. Please consider reporting results less frequently to Ray Tune.\n",
      "2023-11-19 16:51:19,035\tWARNING util.py:202 -- The `process_trial_result` operation took 3.552 s, which may be a performance bottleneck.\n",
      "2023-11-19 17:11:20,102\tWARNING util.py:202 -- The `choose_trial_to_run` operation took 4.575 s, which may be a performance bottleneck.\n",
      "2023-11-19 17:21:19,336\tWARNING util.py:202 -- The `choose_trial_to_run` operation took 3.813 s, which may be a performance bottleneck.\n",
      "2023-11-19 17:41:19,523\tWARNING util.py:202 -- The `choose_trial_to_run` operation took 3.924 s, which may be a performance bottleneck.\n",
      "2023-11-19 17:51:19,400\tWARNING util.py:202 -- The `choose_trial_to_run` operation took 3.787 s, which may be a performance bottleneck.\n",
      "2023-11-19 18:21:19,519\tWARNING util.py:202 -- The `choose_trial_to_run` operation took 3.891 s, which may be a performance bottleneck.\n",
      "\u001B[33m(raylet)\u001B[0m [2023-11-19 18:31:14,675 E 1394256 1394256] (raylet) node_manager.cc:3035: 1 Workers (tasks / actors) killed due to memory pressure (OOM), 0 Workers crashed due to other reasons at node (ID: a34752f1128186e837a1340cc005166d519dc2897421733d1feccfa7, IP: 10.0.0.227) over the last time period. To see more information about the Workers killed on this node, use `ray logs raylet.out -ip 10.0.0.227`\n",
      "\u001B[33m(raylet)\u001B[0m \n",
      "\u001B[33m(raylet)\u001B[0m Refer to the documentation on how to address the out of memory issue: https://docs.ray.io/en/latest/ray-core/scheduling/ray-oom-prevention.html. Consider provisioning more memory on this node or reducing task parallelism by requesting more CPUs per task. To adjust the kill threshold, set the environment variable `RAY_memory_usage_threshold` when starting Ray. To disable worker killing, set the environment variable `RAY_memory_monitor_refresh_ms` to zero.\n"
     ]
    },
    {
     "ename": "RuntimeError",
     "evalue": "Caught unexpected exception: Task was killed due to the node running low on memory.\nMemory on the node (IP: 10.0.0.227, ID: a34752f1128186e837a1340cc005166d519dc2897421733d1feccfa7) where the task (actor ID: 18e51ac6cdc5734041b3131701000000, name=ImplicitFunc.__init__, pid=1398524, memory used=0.10GB) was running was 14.59GB / 15.33GB (0.951345), which exceeds the memory usage threshold of 0.95. Ray killed this worker (ID: 7d2227d9c3b58c0fea52597113c5c01ceecc2de9787ea7711d3b299e) because it was the most recently scheduled task; to see more information about memory usage on this node, use `ray logs raylet.out -ip 10.0.0.227`. To see the logs of the worker, use `ray logs worker-7d2227d9c3b58c0fea52597113c5c01ceecc2de9787ea7711d3b299e*out -ip 10.0.0.227. Top 10 memory users:\nPID\tMEM(GB)\tCOMMAND\n1394168\t7.00\t/home/duke_trystan/Documents/FastStorage/conda/envs/JHU-Intro-NN/bin/python -m ipykernel_launcher -f...\n4250\t0.48\tio.elementary.appcenter -s\n1394202\t0.37\t/home/duke_trystan/Documents/FastStorage/conda/envs/JHU-Intro-NN/lib/python3.10/site-packages/ray/co...\n5170\t0.32\t/usr/lib/firefox/firefox -contentproc -childID 14 -isForBrowser -prefsLen 34092 -prefMapSize 246449 ...\n643533\t0.32\t/usr/lib/firefox/firefox -contentproc -childID 483 -isForBrowser -prefsLen 34551 -prefMapSize 246449...\n3912\t0.28\t/usr/lib/firefox/firefox -contentproc -childID 2 -isForBrowser -prefsLen 45473 -prefMapSize 246449 -...\n3738\t0.26\t/usr/lib/firefox/firefox\n1394256\t0.18\t/home/duke_trystan/Documents/FastStorage/conda/envs/JHU-Intro-NN/lib/python3.10/site-packages/ray/co...\n3219\t0.18\t./jetbrains-toolbox --minimize\n7187\t0.13\t/home/duke_trystan/Documents/FastStorage/conda/envs/JHU-Intro-NN/bin/python -m ipykernel_launcher -f...\nRefer to the documentation on how to address the out of memory issue: https://docs.ray.io/en/latest/ray-core/scheduling/ray-oom-prevention.html. Consider provisioning more memory on this node or reducing task parallelism by requesting more CPUs per task. Set max_restarts and max_task_retries to enable retry when the task crashes due to OOM. To adjust the kill threshold, set the environment variable `RAY_memory_usage_threshold` when starting Ray. To disable worker killing, set the environment variable `RAY_memory_monitor_refresh_ms` to zero.",
     "output_type": "error",
     "traceback": [
      "\u001B[0;31m---------------------------------------------------------------------------\u001B[0m",
      "\u001B[0;31mOutOfMemoryError\u001B[0m                          Traceback (most recent call last)",
      "File \u001B[0;32m~/Documents/FastStorage/conda/envs/JHU-Intro-NN/lib/python3.10/site-packages/ray/air/execution/_internal/event_manager.py:110\u001B[0m, in \u001B[0;36mRayEventManager.resolve_future\u001B[0;34m(self, future)\u001B[0m\n\u001B[1;32m    109\u001B[0m \u001B[38;5;28;01mtry\u001B[39;00m:\n\u001B[0;32m--> 110\u001B[0m     result \u001B[38;5;241m=\u001B[39m \u001B[43mray\u001B[49m\u001B[38;5;241;43m.\u001B[39;49m\u001B[43mget\u001B[49m\u001B[43m(\u001B[49m\u001B[43mfuture\u001B[49m\u001B[43m)\u001B[49m\n\u001B[1;32m    111\u001B[0m \u001B[38;5;28;01mexcept\u001B[39;00m \u001B[38;5;167;01mException\u001B[39;00m \u001B[38;5;28;01mas\u001B[39;00m e:\n",
      "File \u001B[0;32m~/Documents/FastStorage/conda/envs/JHU-Intro-NN/lib/python3.10/site-packages/ray/_private/auto_init_hook.py:24\u001B[0m, in \u001B[0;36mwrap_auto_init.<locals>.auto_init_wrapper\u001B[0;34m(*args, **kwargs)\u001B[0m\n\u001B[1;32m     23\u001B[0m auto_init_ray()\n\u001B[0;32m---> 24\u001B[0m \u001B[38;5;28;01mreturn\u001B[39;00m \u001B[43mfn\u001B[49m\u001B[43m(\u001B[49m\u001B[38;5;241;43m*\u001B[39;49m\u001B[43margs\u001B[49m\u001B[43m,\u001B[49m\u001B[43m \u001B[49m\u001B[38;5;241;43m*\u001B[39;49m\u001B[38;5;241;43m*\u001B[39;49m\u001B[43mkwargs\u001B[49m\u001B[43m)\u001B[49m\n",
      "File \u001B[0;32m~/Documents/FastStorage/conda/envs/JHU-Intro-NN/lib/python3.10/site-packages/ray/_private/client_mode_hook.py:103\u001B[0m, in \u001B[0;36mclient_mode_hook.<locals>.wrapper\u001B[0;34m(*args, **kwargs)\u001B[0m\n\u001B[1;32m    102\u001B[0m         \u001B[38;5;28;01mreturn\u001B[39;00m \u001B[38;5;28mgetattr\u001B[39m(ray, func\u001B[38;5;241m.\u001B[39m\u001B[38;5;18m__name__\u001B[39m)(\u001B[38;5;241m*\u001B[39margs, \u001B[38;5;241m*\u001B[39m\u001B[38;5;241m*\u001B[39mkwargs)\n\u001B[0;32m--> 103\u001B[0m \u001B[38;5;28;01mreturn\u001B[39;00m \u001B[43mfunc\u001B[49m\u001B[43m(\u001B[49m\u001B[38;5;241;43m*\u001B[39;49m\u001B[43margs\u001B[49m\u001B[43m,\u001B[49m\u001B[43m \u001B[49m\u001B[38;5;241;43m*\u001B[39;49m\u001B[38;5;241;43m*\u001B[39;49m\u001B[43mkwargs\u001B[49m\u001B[43m)\u001B[49m\n",
      "File \u001B[0;32m~/Documents/FastStorage/conda/envs/JHU-Intro-NN/lib/python3.10/site-packages/ray/_private/worker.py:2565\u001B[0m, in \u001B[0;36mget\u001B[0;34m(object_refs, timeout)\u001B[0m\n\u001B[1;32m   2564\u001B[0m         \u001B[38;5;28;01melse\u001B[39;00m:\n\u001B[0;32m-> 2565\u001B[0m             \u001B[38;5;28;01mraise\u001B[39;00m value\n\u001B[1;32m   2567\u001B[0m \u001B[38;5;28;01mif\u001B[39;00m is_individual_id:\n",
      "\u001B[0;31mOutOfMemoryError\u001B[0m: Task was killed due to the node running low on memory.\nMemory on the node (IP: 10.0.0.227, ID: a34752f1128186e837a1340cc005166d519dc2897421733d1feccfa7) where the task (actor ID: 18e51ac6cdc5734041b3131701000000, name=ImplicitFunc.__init__, pid=1398524, memory used=0.10GB) was running was 14.59GB / 15.33GB (0.951345), which exceeds the memory usage threshold of 0.95. Ray killed this worker (ID: 7d2227d9c3b58c0fea52597113c5c01ceecc2de9787ea7711d3b299e) because it was the most recently scheduled task; to see more information about memory usage on this node, use `ray logs raylet.out -ip 10.0.0.227`. To see the logs of the worker, use `ray logs worker-7d2227d9c3b58c0fea52597113c5c01ceecc2de9787ea7711d3b299e*out -ip 10.0.0.227. Top 10 memory users:\nPID\tMEM(GB)\tCOMMAND\n1394168\t7.00\t/home/duke_trystan/Documents/FastStorage/conda/envs/JHU-Intro-NN/bin/python -m ipykernel_launcher -f...\n4250\t0.48\tio.elementary.appcenter -s\n1394202\t0.37\t/home/duke_trystan/Documents/FastStorage/conda/envs/JHU-Intro-NN/lib/python3.10/site-packages/ray/co...\n5170\t0.32\t/usr/lib/firefox/firefox -contentproc -childID 14 -isForBrowser -prefsLen 34092 -prefMapSize 246449 ...\n643533\t0.32\t/usr/lib/firefox/firefox -contentproc -childID 483 -isForBrowser -prefsLen 34551 -prefMapSize 246449...\n3912\t0.28\t/usr/lib/firefox/firefox -contentproc -childID 2 -isForBrowser -prefsLen 45473 -prefMapSize 246449 -...\n3738\t0.26\t/usr/lib/firefox/firefox\n1394256\t0.18\t/home/duke_trystan/Documents/FastStorage/conda/envs/JHU-Intro-NN/lib/python3.10/site-packages/ray/co...\n3219\t0.18\t./jetbrains-toolbox --minimize\n7187\t0.13\t/home/duke_trystan/Documents/FastStorage/conda/envs/JHU-Intro-NN/bin/python -m ipykernel_launcher -f...\nRefer to the documentation on how to address the out of memory issue: https://docs.ray.io/en/latest/ray-core/scheduling/ray-oom-prevention.html. Consider provisioning more memory on this node or reducing task parallelism by requesting more CPUs per task. Set max_restarts and max_task_retries to enable retry when the task crashes due to OOM. To adjust the kill threshold, set the environment variable `RAY_memory_usage_threshold` when starting Ray. To disable worker killing, set the environment variable `RAY_memory_monitor_refresh_ms` to zero.",
      "\nThe above exception was the direct cause of the following exception:\n",
      "\u001B[0;31mRuntimeError\u001B[0m                              Traceback (most recent call last)",
      "Cell \u001B[0;32mIn[13], line 16\u001B[0m\n\u001B[1;32m      6\u001B[0m search_space \u001B[38;5;241m=\u001B[39m {\n\u001B[1;32m      7\u001B[0m     \u001B[38;5;124m'\u001B[39m\u001B[38;5;124mepochs\u001B[39m\u001B[38;5;124m'\u001B[39m: tune\u001B[38;5;241m.\u001B[39mgrid_search(\u001B[38;5;28mlist\u001B[39m(\u001B[38;5;28mrange\u001B[39m(\u001B[38;5;241m30\u001B[39m, \u001B[38;5;241m61\u001B[39m, \u001B[38;5;241m10\u001B[39m))),\n\u001B[1;32m      8\u001B[0m     \u001B[38;5;124m'\u001B[39m\u001B[38;5;124mlr\u001B[39m\u001B[38;5;124m'\u001B[39m: \u001B[38;5;241m1e-1\u001B[39m,\n\u001B[0;32m   (...)\u001B[0m\n\u001B[1;32m     11\u001B[0m     \u001B[38;5;124m'\u001B[39m\u001B[38;5;124mnum_nodes\u001B[39m\u001B[38;5;124m'\u001B[39m: tune\u001B[38;5;241m.\u001B[39mgrid_search(layer_config[:\u001B[38;5;241m5_000\u001B[39m])\n\u001B[1;32m     12\u001B[0m }\n\u001B[1;32m     14\u001B[0m tuner \u001B[38;5;241m=\u001B[39m tune\u001B[38;5;241m.\u001B[39mTuner(objective, param_space\u001B[38;5;241m=\u001B[39msearch_space, tune_config\u001B[38;5;241m=\u001B[39mtune\u001B[38;5;241m.\u001B[39mTuneConfig(scheduler\u001B[38;5;241m=\u001B[39mtune\u001B[38;5;241m.\u001B[39mschedulers\u001B[38;5;241m.\u001B[39mASHAScheduler(metric\u001B[38;5;241m=\u001B[39m\u001B[38;5;124m'\u001B[39m\u001B[38;5;124mf1_score\u001B[39m\u001B[38;5;124m'\u001B[39m, mode\u001B[38;5;241m=\u001B[39m\u001B[38;5;124m'\u001B[39m\u001B[38;5;124mmax\u001B[39m\u001B[38;5;124m'\u001B[39m), num_samples\u001B[38;5;241m=\u001B[39m\u001B[38;5;241m1\u001B[39m))\n\u001B[0;32m---> 16\u001B[0m results \u001B[38;5;241m=\u001B[39m \u001B[43mtuner\u001B[49m\u001B[38;5;241;43m.\u001B[39;49m\u001B[43mfit\u001B[49m\u001B[43m(\u001B[49m\u001B[43m)\u001B[49m\n\u001B[1;32m     17\u001B[0m results\u001B[38;5;241m.\u001B[39mget_best_result(metric\u001B[38;5;241m=\u001B[39m\u001B[38;5;124m'\u001B[39m\u001B[38;5;124mf1_score\u001B[39m\u001B[38;5;124m'\u001B[39m, mode\u001B[38;5;241m=\u001B[39m\u001B[38;5;124m'\u001B[39m\u001B[38;5;124mmax\u001B[39m\u001B[38;5;124m'\u001B[39m)\n",
      "File \u001B[0;32m~/Documents/FastStorage/conda/envs/JHU-Intro-NN/lib/python3.10/site-packages/ray/tune/tuner.py:364\u001B[0m, in \u001B[0;36mTuner.fit\u001B[0;34m(self)\u001B[0m\n\u001B[1;32m    362\u001B[0m \u001B[38;5;28;01mif\u001B[39;00m \u001B[38;5;129;01mnot\u001B[39;00m \u001B[38;5;28mself\u001B[39m\u001B[38;5;241m.\u001B[39m_is_ray_client:\n\u001B[1;32m    363\u001B[0m     \u001B[38;5;28;01mtry\u001B[39;00m:\n\u001B[0;32m--> 364\u001B[0m         \u001B[38;5;28;01mreturn\u001B[39;00m \u001B[38;5;28;43mself\u001B[39;49m\u001B[38;5;241;43m.\u001B[39;49m\u001B[43m_local_tuner\u001B[49m\u001B[38;5;241;43m.\u001B[39;49m\u001B[43mfit\u001B[49m\u001B[43m(\u001B[49m\u001B[43m)\u001B[49m\n\u001B[1;32m    365\u001B[0m     \u001B[38;5;28;01mexcept\u001B[39;00m TuneError \u001B[38;5;28;01mas\u001B[39;00m e:\n\u001B[1;32m    366\u001B[0m         \u001B[38;5;28;01mraise\u001B[39;00m TuneError(\n\u001B[1;32m    367\u001B[0m             _TUNER_FAILED_MSG\u001B[38;5;241m.\u001B[39mformat(\n\u001B[1;32m    368\u001B[0m                 path\u001B[38;5;241m=\u001B[39m\u001B[38;5;28mself\u001B[39m\u001B[38;5;241m.\u001B[39m_local_tuner\u001B[38;5;241m.\u001B[39mget_experiment_checkpoint_dir()\n\u001B[1;32m    369\u001B[0m             )\n\u001B[1;32m    370\u001B[0m         ) \u001B[38;5;28;01mfrom\u001B[39;00m \u001B[38;5;21;01me\u001B[39;00m\n",
      "File \u001B[0;32m~/Documents/FastStorage/conda/envs/JHU-Intro-NN/lib/python3.10/site-packages/ray/tune/impl/tuner_internal.py:526\u001B[0m, in \u001B[0;36mTunerInternal.fit\u001B[0;34m(self)\u001B[0m\n\u001B[1;32m    524\u001B[0m param_space \u001B[38;5;241m=\u001B[39m copy\u001B[38;5;241m.\u001B[39mdeepcopy(\u001B[38;5;28mself\u001B[39m\u001B[38;5;241m.\u001B[39mparam_space)\n\u001B[1;32m    525\u001B[0m \u001B[38;5;28;01mif\u001B[39;00m \u001B[38;5;129;01mnot\u001B[39;00m \u001B[38;5;28mself\u001B[39m\u001B[38;5;241m.\u001B[39m_is_restored:\n\u001B[0;32m--> 526\u001B[0m     analysis \u001B[38;5;241m=\u001B[39m \u001B[38;5;28;43mself\u001B[39;49m\u001B[38;5;241;43m.\u001B[39;49m\u001B[43m_fit_internal\u001B[49m\u001B[43m(\u001B[49m\u001B[43mtrainable\u001B[49m\u001B[43m,\u001B[49m\u001B[43m \u001B[49m\u001B[43mparam_space\u001B[49m\u001B[43m)\u001B[49m\n\u001B[1;32m    527\u001B[0m \u001B[38;5;28;01melse\u001B[39;00m:\n\u001B[1;32m    528\u001B[0m     analysis \u001B[38;5;241m=\u001B[39m \u001B[38;5;28mself\u001B[39m\u001B[38;5;241m.\u001B[39m_fit_resume(trainable, param_space)\n",
      "File \u001B[0;32m~/Documents/FastStorage/conda/envs/JHU-Intro-NN/lib/python3.10/site-packages/ray/tune/impl/tuner_internal.py:645\u001B[0m, in \u001B[0;36mTunerInternal._fit_internal\u001B[0;34m(self, trainable, param_space)\u001B[0m\n\u001B[1;32m    632\u001B[0m \u001B[38;5;250m\u001B[39m\u001B[38;5;124;03m\"\"\"Fitting for a fresh Tuner.\"\"\"\u001B[39;00m\n\u001B[1;32m    633\u001B[0m args \u001B[38;5;241m=\u001B[39m {\n\u001B[1;32m    634\u001B[0m     \u001B[38;5;241m*\u001B[39m\u001B[38;5;241m*\u001B[39m\u001B[38;5;28mself\u001B[39m\u001B[38;5;241m.\u001B[39m_get_tune_run_arguments(trainable),\n\u001B[1;32m    635\u001B[0m     \u001B[38;5;241m*\u001B[39m\u001B[38;5;241m*\u001B[39m\u001B[38;5;28mdict\u001B[39m(\n\u001B[0;32m   (...)\u001B[0m\n\u001B[1;32m    643\u001B[0m     \u001B[38;5;241m*\u001B[39m\u001B[38;5;241m*\u001B[39m\u001B[38;5;28mself\u001B[39m\u001B[38;5;241m.\u001B[39m_tuner_kwargs,\n\u001B[1;32m    644\u001B[0m }\n\u001B[0;32m--> 645\u001B[0m analysis \u001B[38;5;241m=\u001B[39m \u001B[43mrun\u001B[49m\u001B[43m(\u001B[49m\n\u001B[1;32m    646\u001B[0m \u001B[43m    \u001B[49m\u001B[38;5;241;43m*\u001B[39;49m\u001B[38;5;241;43m*\u001B[39;49m\u001B[43margs\u001B[49m\u001B[43m,\u001B[49m\n\u001B[1;32m    647\u001B[0m \u001B[43m\u001B[49m\u001B[43m)\u001B[49m\n\u001B[1;32m    648\u001B[0m \u001B[38;5;28mself\u001B[39m\u001B[38;5;241m.\u001B[39mclear_remote_string_queue()\n\u001B[1;32m    649\u001B[0m \u001B[38;5;28;01mreturn\u001B[39;00m analysis\n",
      "File \u001B[0;32m~/Documents/FastStorage/conda/envs/JHU-Intro-NN/lib/python3.10/site-packages/ray/tune/tune.py:1007\u001B[0m, in \u001B[0;36mrun\u001B[0;34m(run_or_experiment, name, metric, mode, stop, time_budget_s, config, resources_per_trial, num_samples, storage_path, storage_filesystem, search_alg, scheduler, checkpoint_config, verbose, progress_reporter, log_to_file, trial_name_creator, trial_dirname_creator, sync_config, export_formats, max_failures, fail_fast, restore, server_port, resume, reuse_actors, raise_on_failed_trial, callbacks, max_concurrent_trials, keep_checkpoints_num, checkpoint_score_attr, checkpoint_freq, checkpoint_at_end, chdir_to_trial_dir, local_dir, _experiment_checkpoint_dir, _remote, _remote_string_queue, _entrypoint)\u001B[0m\n\u001B[1;32m   1005\u001B[0m \u001B[38;5;28;01mtry\u001B[39;00m:\n\u001B[1;32m   1006\u001B[0m     \u001B[38;5;28;01mwhile\u001B[39;00m \u001B[38;5;129;01mnot\u001B[39;00m runner\u001B[38;5;241m.\u001B[39mis_finished() \u001B[38;5;129;01mand\u001B[39;00m \u001B[38;5;129;01mnot\u001B[39;00m experiment_interrupted_event\u001B[38;5;241m.\u001B[39mis_set():\n\u001B[0;32m-> 1007\u001B[0m         \u001B[43mrunner\u001B[49m\u001B[38;5;241;43m.\u001B[39;49m\u001B[43mstep\u001B[49m\u001B[43m(\u001B[49m\u001B[43m)\u001B[49m\n\u001B[1;32m   1008\u001B[0m         \u001B[38;5;28;01mif\u001B[39;00m has_verbosity(Verbosity\u001B[38;5;241m.\u001B[39mV1_EXPERIMENT):\n\u001B[1;32m   1009\u001B[0m             _report_progress(runner, progress_reporter)\n",
      "File \u001B[0;32m~/Documents/FastStorage/conda/envs/JHU-Intro-NN/lib/python3.10/site-packages/ray/tune/execution/tune_controller.py:731\u001B[0m, in \u001B[0;36mTuneController.step\u001B[0;34m(self)\u001B[0m\n\u001B[1;32m    728\u001B[0m \u001B[38;5;28mself\u001B[39m\u001B[38;5;241m.\u001B[39m_maybe_add_actors()\n\u001B[1;32m    730\u001B[0m \u001B[38;5;66;03m# Handle one event\u001B[39;00m\n\u001B[0;32m--> 731\u001B[0m \u001B[38;5;28;01mif\u001B[39;00m \u001B[38;5;129;01mnot\u001B[39;00m \u001B[38;5;28;43mself\u001B[39;49m\u001B[38;5;241;43m.\u001B[39;49m\u001B[43m_actor_manager\u001B[49m\u001B[38;5;241;43m.\u001B[39;49m\u001B[43mnext\u001B[49m\u001B[43m(\u001B[49m\u001B[43mtimeout\u001B[49m\u001B[38;5;241;43m=\u001B[39;49m\u001B[38;5;241;43m0.1\u001B[39;49m\u001B[43m)\u001B[49m:\n\u001B[1;32m    732\u001B[0m     \u001B[38;5;66;03m# If there are no actors running, warn about potentially\u001B[39;00m\n\u001B[1;32m    733\u001B[0m     \u001B[38;5;66;03m# insufficient resources\u001B[39;00m\n\u001B[1;32m    734\u001B[0m     \u001B[38;5;28;01mif\u001B[39;00m \u001B[38;5;129;01mnot\u001B[39;00m \u001B[38;5;28mself\u001B[39m\u001B[38;5;241m.\u001B[39m_actor_manager\u001B[38;5;241m.\u001B[39mnum_live_actors:\n\u001B[1;32m    735\u001B[0m         \u001B[38;5;28mself\u001B[39m\u001B[38;5;241m.\u001B[39m_insufficient_resources_manager\u001B[38;5;241m.\u001B[39mon_no_available_trials(\n\u001B[1;32m    736\u001B[0m             \u001B[38;5;28mself\u001B[39m\u001B[38;5;241m.\u001B[39mget_trials()\n\u001B[1;32m    737\u001B[0m         )\n",
      "File \u001B[0;32m~/Documents/FastStorage/conda/envs/JHU-Intro-NN/lib/python3.10/site-packages/ray/air/execution/_internal/actor_manager.py:224\u001B[0m, in \u001B[0;36mRayActorManager.next\u001B[0;34m(self, timeout)\u001B[0m\n\u001B[1;32m    222\u001B[0m     \u001B[38;5;28mself\u001B[39m\u001B[38;5;241m.\u001B[39m_actor_state_events\u001B[38;5;241m.\u001B[39mresolve_future(future)\n\u001B[1;32m    223\u001B[0m \u001B[38;5;28;01melif\u001B[39;00m future \u001B[38;5;129;01min\u001B[39;00m actor_task_futures:\n\u001B[0;32m--> 224\u001B[0m     \u001B[38;5;28;43mself\u001B[39;49m\u001B[38;5;241;43m.\u001B[39;49m\u001B[43m_actor_task_events\u001B[49m\u001B[38;5;241;43m.\u001B[39;49m\u001B[43mresolve_future\u001B[49m\u001B[43m(\u001B[49m\u001B[43mfuture\u001B[49m\u001B[43m)\u001B[49m\n\u001B[1;32m    225\u001B[0m \u001B[38;5;28;01melse\u001B[39;00m:\n\u001B[1;32m    226\u001B[0m     \u001B[38;5;28mself\u001B[39m\u001B[38;5;241m.\u001B[39m_handle_ready_resource_future()\n",
      "File \u001B[0;32m~/Documents/FastStorage/conda/envs/JHU-Intro-NN/lib/python3.10/site-packages/ray/air/execution/_internal/event_manager.py:113\u001B[0m, in \u001B[0;36mRayEventManager.resolve_future\u001B[0;34m(self, future)\u001B[0m\n\u001B[1;32m    111\u001B[0m \u001B[38;5;28;01mexcept\u001B[39;00m \u001B[38;5;167;01mException\u001B[39;00m \u001B[38;5;28;01mas\u001B[39;00m e:\n\u001B[1;32m    112\u001B[0m     \u001B[38;5;28;01mif\u001B[39;00m on_error:\n\u001B[0;32m--> 113\u001B[0m         \u001B[43mon_error\u001B[49m\u001B[43m(\u001B[49m\u001B[43me\u001B[49m\u001B[43m)\u001B[49m\n\u001B[1;32m    114\u001B[0m     \u001B[38;5;28;01melse\u001B[39;00m:\n\u001B[1;32m    115\u001B[0m         \u001B[38;5;28;01mraise\u001B[39;00m e\n",
      "File \u001B[0;32m~/Documents/FastStorage/conda/envs/JHU-Intro-NN/lib/python3.10/site-packages/ray/air/execution/_internal/actor_manager.py:770\u001B[0m, in \u001B[0;36mRayActorManager._schedule_tracked_actor_task.<locals>.on_error\u001B[0;34m(exception)\u001B[0m\n\u001B[1;32m    769\u001B[0m \u001B[38;5;28;01mdef\u001B[39;00m \u001B[38;5;21mon_error\u001B[39m(exception: \u001B[38;5;167;01mException\u001B[39;00m):\n\u001B[0;32m--> 770\u001B[0m     \u001B[38;5;28;43mself\u001B[39;49m\u001B[38;5;241;43m.\u001B[39;49m\u001B[43m_actor_task_failed\u001B[49m\u001B[43m(\u001B[49m\n\u001B[1;32m    771\u001B[0m \u001B[43m        \u001B[49m\u001B[43mtracked_actor_task\u001B[49m\u001B[38;5;241;43m=\u001B[39;49m\u001B[43mtracked_actor_task\u001B[49m\u001B[43m,\u001B[49m\u001B[43m \u001B[49m\u001B[43mexception\u001B[49m\u001B[38;5;241;43m=\u001B[39;49m\u001B[43mexception\u001B[49m\n\u001B[1;32m    772\u001B[0m \u001B[43m    \u001B[49m\u001B[43m)\u001B[49m\n",
      "File \u001B[0;32m~/Documents/FastStorage/conda/envs/JHU-Intro-NN/lib/python3.10/site-packages/ray/air/execution/_internal/actor_manager.py:291\u001B[0m, in \u001B[0;36mRayActorManager._actor_task_failed\u001B[0;34m(self, tracked_actor_task, exception)\u001B[0m\n\u001B[1;32m    289\u001B[0m         tracked_actor_task\u001B[38;5;241m.\u001B[39m_on_error(tracked_actor, exception)\n\u001B[1;32m    290\u001B[0m \u001B[38;5;28;01melse\u001B[39;00m:\n\u001B[0;32m--> 291\u001B[0m     \u001B[38;5;28;01mraise\u001B[39;00m \u001B[38;5;167;01mRuntimeError\u001B[39;00m(\n\u001B[1;32m    292\u001B[0m         \u001B[38;5;124mf\u001B[39m\u001B[38;5;124m\"\u001B[39m\u001B[38;5;124mCaught unexpected exception: \u001B[39m\u001B[38;5;132;01m{\u001B[39;00mexception\u001B[38;5;132;01m}\u001B[39;00m\u001B[38;5;124m\"\u001B[39m\n\u001B[1;32m    293\u001B[0m     ) \u001B[38;5;28;01mfrom\u001B[39;00m \u001B[38;5;21;01mexception\u001B[39;00m\n",
      "\u001B[0;31mRuntimeError\u001B[0m: Caught unexpected exception: Task was killed due to the node running low on memory.\nMemory on the node (IP: 10.0.0.227, ID: a34752f1128186e837a1340cc005166d519dc2897421733d1feccfa7) where the task (actor ID: 18e51ac6cdc5734041b3131701000000, name=ImplicitFunc.__init__, pid=1398524, memory used=0.10GB) was running was 14.59GB / 15.33GB (0.951345), which exceeds the memory usage threshold of 0.95. Ray killed this worker (ID: 7d2227d9c3b58c0fea52597113c5c01ceecc2de9787ea7711d3b299e) because it was the most recently scheduled task; to see more information about memory usage on this node, use `ray logs raylet.out -ip 10.0.0.227`. To see the logs of the worker, use `ray logs worker-7d2227d9c3b58c0fea52597113c5c01ceecc2de9787ea7711d3b299e*out -ip 10.0.0.227. Top 10 memory users:\nPID\tMEM(GB)\tCOMMAND\n1394168\t7.00\t/home/duke_trystan/Documents/FastStorage/conda/envs/JHU-Intro-NN/bin/python -m ipykernel_launcher -f...\n4250\t0.48\tio.elementary.appcenter -s\n1394202\t0.37\t/home/duke_trystan/Documents/FastStorage/conda/envs/JHU-Intro-NN/lib/python3.10/site-packages/ray/co...\n5170\t0.32\t/usr/lib/firefox/firefox -contentproc -childID 14 -isForBrowser -prefsLen 34092 -prefMapSize 246449 ...\n643533\t0.32\t/usr/lib/firefox/firefox -contentproc -childID 483 -isForBrowser -prefsLen 34551 -prefMapSize 246449...\n3912\t0.28\t/usr/lib/firefox/firefox -contentproc -childID 2 -isForBrowser -prefsLen 45473 -prefMapSize 246449 -...\n3738\t0.26\t/usr/lib/firefox/firefox\n1394256\t0.18\t/home/duke_trystan/Documents/FastStorage/conda/envs/JHU-Intro-NN/lib/python3.10/site-packages/ray/co...\n3219\t0.18\t./jetbrains-toolbox --minimize\n7187\t0.13\t/home/duke_trystan/Documents/FastStorage/conda/envs/JHU-Intro-NN/bin/python -m ipykernel_launcher -f...\nRefer to the documentation on how to address the out of memory issue: https://docs.ray.io/en/latest/ray-core/scheduling/ray-oom-prevention.html. Consider provisioning more memory on this node or reducing task parallelism by requesting more CPUs per task. Set max_restarts and max_task_retries to enable retry when the task crashes due to OOM. To adjust the kill threshold, set the environment variable `RAY_memory_usage_threshold` when starting Ray. To disable worker killing, set the environment variable `RAY_memory_monitor_refresh_ms` to zero."
     ]
    }
   ],
   "source": [
    "# https://docs.ray.io/en/latest/tune/index.html\n",
    "\n",
    "max_num_layers: int = 5\n",
    "max_num_nodes: int = int(np.log2(2 ** 4))\n",
    "\n",
    "search_space = {\n",
    "    'epochs': tune.grid_search(list(range(30, 61, 10))),\n",
    "    'lr': 1e-1,\n",
    "    'seed': tune.grid_search(list(range(25))),\n",
    "    'use_biases': False,\n",
    "    'num_nodes': tune.grid_search(layer_config[:5_000])\n",
    "}\n",
    "\n",
    "tuner = tune.Tuner(tune.with_resources(\n",
    "        objective, resources={}\n",
    "    ), objective, param_space=search_space, tune_config=tune.TuneConfig(scheduler=tune.schedulers.ASHAScheduler(metric='f1_score', mode='max'), num_samples=1))\n",
    "\n",
    "results = tuner.fit()\n",
    "results.get_best_result(metric='f1_score', mode='max')"
   ]
  },
  {
   "cell_type": "code",
   "execution_count": null,
   "metadata": {
    "pycharm": {
     "name": "#%%\n"
    }
   },
   "outputs": [],
   "source": [
    "import pickle"
   ]
  },
  {
   "cell_type": "code",
   "execution_count": null,
   "metadata": {
    "pycharm": {
     "name": "#%%\n"
    }
   },
   "outputs": [],
   "source": [
    "with open(os.path.join('data', 'best_results.pkl'), 'wb') as f:\n",
    "    pickle.dump(results.get_best_result(metric='f1_score', mode='max'), f)"
   ]
  },
  {
   "cell_type": "code",
   "execution_count": 14,
   "metadata": {
    "pycharm": {
     "name": "#%%\n"
    }
   },
   "outputs": [
    {
     "ename": "NameError",
     "evalue": "name 'results' is not defined",
     "output_type": "error",
     "traceback": [
      "\u001B[0;31m---------------------------------------------------------------------------\u001B[0m",
      "\u001B[0;31mNameError\u001B[0m                                 Traceback (most recent call last)",
      "Cell \u001B[0;32mIn[14], line 1\u001B[0m\n\u001B[0;32m----> 1\u001B[0m \u001B[43mresults\u001B[49m\n",
      "\u001B[0;31mNameError\u001B[0m: name 'results' is not defined"
     ]
    }
   ],
   "source": [
    "results"
   ]
  },
  {
   "cell_type": "code",
   "execution_count": null,
   "metadata": {
    "pycharm": {
     "name": "#%%\n"
    }
   },
   "outputs": [],
   "source": []
  }
 ],
 "metadata": {
  "kernelspec": {
   "display_name": "Python 3 (ipykernel)",
   "language": "python",
   "name": "python3"
  },
  "language_info": {
   "codemirror_mode": {
    "name": "ipython",
    "version": 3
   },
   "file_extension": ".py",
   "mimetype": "text/x-python",
   "name": "python",
   "nbconvert_exporter": "python",
   "pygments_lexer": "ipython3",
   "version": "3.10.13"
  }
 },
 "nbformat": 4,
 "nbformat_minor": 1
}